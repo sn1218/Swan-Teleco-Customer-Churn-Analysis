{
 "cells": [
  {
   "cell_type": "markdown",
   "id": "fed79ec5-2fd5-4855-a9c5-17601d418edb",
   "metadata": {},
   "source": [
    "<p style=\"text-align:center;\">\n",
    "<img src=\"https://github.com/digital-futures-academy/DataScienceMasterResources/blob/main/Resources/datascience-notebook-header.png?raw=true\"\n",
    "     alt=\"DigitalFuturesLogo\"\n",
    "     style=\"float: center; margin-right: 10px;\" />\n",
    "</p>\n",
    "\n",
    "# Swan Consulting Predictive Modelling\n",
    "### <i>By Team Ugly Ducklings</i>\n",
    "\n",
    "### Table Of Contents:\n",
    "* [Data Cleaning & Feature Engineering](#1)\n",
    "* [Create X_train, X_test, y_train, and y_test](#2)\n",
    "* [Predictive Modelling](#3)\n",
    "* [Create Required Lists](#4)\n",
    "\n",
    "The aim of this workbook is to create a predictive model to output a list of those most likely to churn next, and a list for the churn risk."
   ]
  },
  {
   "cell_type": "code",
   "execution_count": 2,
   "id": "b6f270a9-563a-46bb-be08-2f6e72dd6eea",
   "metadata": {
    "tags": []
   },
   "outputs": [],
   "source": [
    "## Imports\n",
    "## Importing the big 4 - Pandas, Numpy, Seaborn & matplotlib\n",
    "import pandas as pd, numpy as np, seaborn as sns, matplotlib.pyplot as plt\n",
    "## Import the metrics we'll be using\n",
    "from sklearn import metrics\n",
    "## Import Logistic Regression from sklearn\n",
    "from sklearn.linear_model import LogisticRegression\n",
    "from sklearn.model_selection import train_test_split"
   ]
  },
  {
   "cell_type": "code",
   "execution_count": 3,
   "id": "0d752077-de0c-4be0-8b3c-406464e00ff3",
   "metadata": {
    "tags": []
   },
   "outputs": [],
   "source": [
    "pd.options.display.max_columns = None"
   ]
  },
  {
   "cell_type": "code",
   "execution_count": 5,
   "id": "7ac8070c-5706-45af-8945-8d0168d25cff",
   "metadata": {
    "tags": []
   },
   "outputs": [],
   "source": [
    "df = pd.read_csv(\"../swan_data.csv\")"
   ]
  },
  {
   "cell_type": "markdown",
   "id": "d6955a34-cb38-41f9-a82a-22e8bdd1bdf8",
   "metadata": {},
   "source": [
    "## Data Cleaning & Feature Engineering <a class=\"anchor\" id=\"1\"></a>"
   ]
  },
  {
   "cell_type": "code",
   "execution_count": 6,
   "id": "45cdae95-48a0-424a-bdc7-ab2947f0c2b5",
   "metadata": {
    "tags": []
   },
   "outputs": [],
   "source": [
    "def data_cleaning(df):\n",
    "    #Making a copy of the dataset\n",
    "    df = df.copy()\n",
    "\n",
    "    #Using CustomerID as index\n",
    "    df.set_index(\"CustomerID\", inplace=True)\n",
    "\n",
    "    #Fixing Total Charges column - inserting zeroes for blank columns and casting to float\n",
    "    df[\"Total Charges\"] = df[\"Total Charges\"].str.replace(\" \", \"0\")\n",
    "    df = df.astype({\"Total Charges\": float})\n",
    "    \n",
    "    #Scale Total Charges, Monthly Charges, and Tenure to be closer to values in other columns\n",
    "    df['Tenure_scaled'] = df['Tenure Months'] / 100\n",
    "    df['Monthly Charges_scaled'] = df['Monthly Charges'] / 100\n",
    "    df['Total Charges_scaled'] = df['Total Charges'] / 1000\n",
    "    \n",
    "    #Dropping unnecessary columns\n",
    "    df.drop(columns=[\"Count\", \"Country\", \"State\", \"City\", \"Zip Code\", \"Lat Long\", \"Churn Label\", \"Churn Reason\"], inplace=True)\n",
    "\n",
    "    #Mapping columns to numeric values\n",
    "    #General case, where values are \"yes\" and \"no\". Results like \"no phone service\" are mapped to 0 since the lack of phone service is contained in a different column\n",
    "    general_mapper = {\"No\":0, \"Yes\":1, \"No phone service\": 0, \"No internet service\": 0}\n",
    "    for col in df.columns:\n",
    "        if \"No\" in df[col].unique() and \"Yes\" in df[col].unique():\n",
    "            df[col] = df[col].map(general_mapper)\n",
    "    \n",
    "    #Mapping male to 0 and female to 1\n",
    "    gender_mapper = {\"Male\":0, \"Female\":1}\n",
    "    df[\"Gender\"] = df[\"Gender\"].map(gender_mapper)\n",
    "\n",
    "    #Mapping contract lengths into a value representing the length of the contract term in years\n",
    "    contract_mapper = {\"Month-to-month\": 1/12, \"Two year\": 2, \"One year\":1}\n",
    "    df[\"Contract\"] = df[\"Contract\"].map(contract_mapper)\n",
    "\n",
    "    #One Hot Encoding the internet service and payment method columns\n",
    "    df = pd.get_dummies(df, columns=[\"Internet Service\"], dtype=int, prefix=\"is\", drop_first=True)\n",
    "    df = pd.get_dummies(df, columns=[\"Payment Method\"], dtype=int, prefix=\"pay\", drop_first=True)\n",
    "\n",
    "    return df\n"
   ]
  },
  {
   "cell_type": "code",
   "execution_count": 7,
   "id": "6181f063-5dde-4cd7-b80d-477845f4cf4c",
   "metadata": {
    "tags": []
   },
   "outputs": [],
   "source": [
    "df = data_cleaning(df)"
   ]
  },
  {
   "cell_type": "code",
   "execution_count": 8,
   "id": "31178c9b-f369-43eb-9164-503f84998d30",
   "metadata": {
    "tags": []
   },
   "outputs": [
    {
     "data": {
      "text/html": [
       "<div>\n",
       "<style scoped>\n",
       "    .dataframe tbody tr th:only-of-type {\n",
       "        vertical-align: middle;\n",
       "    }\n",
       "\n",
       "    .dataframe tbody tr th {\n",
       "        vertical-align: top;\n",
       "    }\n",
       "\n",
       "    .dataframe thead th {\n",
       "        text-align: right;\n",
       "    }\n",
       "</style>\n",
       "<table border=\"1\" class=\"dataframe\">\n",
       "  <thead>\n",
       "    <tr style=\"text-align: right;\">\n",
       "      <th></th>\n",
       "      <th>Latitude</th>\n",
       "      <th>Longitude</th>\n",
       "      <th>Gender</th>\n",
       "      <th>Senior Citizen</th>\n",
       "      <th>Partner</th>\n",
       "      <th>Dependents</th>\n",
       "      <th>Tenure Months</th>\n",
       "      <th>Phone Service</th>\n",
       "      <th>Multiple Lines</th>\n",
       "      <th>Online Security</th>\n",
       "      <th>Online Backup</th>\n",
       "      <th>Device Protection</th>\n",
       "      <th>Tech Support</th>\n",
       "      <th>Streaming TV</th>\n",
       "      <th>Streaming Movies</th>\n",
       "      <th>Contract</th>\n",
       "      <th>Paperless Billing</th>\n",
       "      <th>Monthly Charges</th>\n",
       "      <th>Total Charges</th>\n",
       "      <th>Churn Value</th>\n",
       "      <th>Tenure_scaled</th>\n",
       "      <th>Monthly Charges_scaled</th>\n",
       "      <th>Total Charges_scaled</th>\n",
       "      <th>is_Fiber optic</th>\n",
       "      <th>is_No</th>\n",
       "      <th>pay_Credit card (automatic)</th>\n",
       "      <th>pay_Electronic check</th>\n",
       "      <th>pay_Mailed check</th>\n",
       "    </tr>\n",
       "    <tr>\n",
       "      <th>CustomerID</th>\n",
       "      <th></th>\n",
       "      <th></th>\n",
       "      <th></th>\n",
       "      <th></th>\n",
       "      <th></th>\n",
       "      <th></th>\n",
       "      <th></th>\n",
       "      <th></th>\n",
       "      <th></th>\n",
       "      <th></th>\n",
       "      <th></th>\n",
       "      <th></th>\n",
       "      <th></th>\n",
       "      <th></th>\n",
       "      <th></th>\n",
       "      <th></th>\n",
       "      <th></th>\n",
       "      <th></th>\n",
       "      <th></th>\n",
       "      <th></th>\n",
       "      <th></th>\n",
       "      <th></th>\n",
       "      <th></th>\n",
       "      <th></th>\n",
       "      <th></th>\n",
       "      <th></th>\n",
       "      <th></th>\n",
       "      <th></th>\n",
       "    </tr>\n",
       "  </thead>\n",
       "  <tbody>\n",
       "    <tr>\n",
       "      <th>3668-QPYBK</th>\n",
       "      <td>33.964131</td>\n",
       "      <td>-118.272783</td>\n",
       "      <td>0</td>\n",
       "      <td>0</td>\n",
       "      <td>0</td>\n",
       "      <td>0</td>\n",
       "      <td>2</td>\n",
       "      <td>1</td>\n",
       "      <td>0</td>\n",
       "      <td>1</td>\n",
       "      <td>1</td>\n",
       "      <td>0</td>\n",
       "      <td>0</td>\n",
       "      <td>0</td>\n",
       "      <td>0</td>\n",
       "      <td>0.083333</td>\n",
       "      <td>1</td>\n",
       "      <td>53.85</td>\n",
       "      <td>108.15</td>\n",
       "      <td>1</td>\n",
       "      <td>0.02</td>\n",
       "      <td>0.5385</td>\n",
       "      <td>0.10815</td>\n",
       "      <td>0</td>\n",
       "      <td>0</td>\n",
       "      <td>0</td>\n",
       "      <td>0</td>\n",
       "      <td>1</td>\n",
       "    </tr>\n",
       "    <tr>\n",
       "      <th>9237-HQITU</th>\n",
       "      <td>34.059281</td>\n",
       "      <td>-118.307420</td>\n",
       "      <td>1</td>\n",
       "      <td>0</td>\n",
       "      <td>0</td>\n",
       "      <td>1</td>\n",
       "      <td>2</td>\n",
       "      <td>1</td>\n",
       "      <td>0</td>\n",
       "      <td>0</td>\n",
       "      <td>0</td>\n",
       "      <td>0</td>\n",
       "      <td>0</td>\n",
       "      <td>0</td>\n",
       "      <td>0</td>\n",
       "      <td>0.083333</td>\n",
       "      <td>1</td>\n",
       "      <td>70.70</td>\n",
       "      <td>151.65</td>\n",
       "      <td>1</td>\n",
       "      <td>0.02</td>\n",
       "      <td>0.7070</td>\n",
       "      <td>0.15165</td>\n",
       "      <td>1</td>\n",
       "      <td>0</td>\n",
       "      <td>0</td>\n",
       "      <td>1</td>\n",
       "      <td>0</td>\n",
       "    </tr>\n",
       "    <tr>\n",
       "      <th>9305-CDSKC</th>\n",
       "      <td>34.048013</td>\n",
       "      <td>-118.293953</td>\n",
       "      <td>1</td>\n",
       "      <td>0</td>\n",
       "      <td>0</td>\n",
       "      <td>1</td>\n",
       "      <td>8</td>\n",
       "      <td>1</td>\n",
       "      <td>1</td>\n",
       "      <td>0</td>\n",
       "      <td>0</td>\n",
       "      <td>1</td>\n",
       "      <td>0</td>\n",
       "      <td>1</td>\n",
       "      <td>1</td>\n",
       "      <td>0.083333</td>\n",
       "      <td>1</td>\n",
       "      <td>99.65</td>\n",
       "      <td>820.50</td>\n",
       "      <td>1</td>\n",
       "      <td>0.08</td>\n",
       "      <td>0.9965</td>\n",
       "      <td>0.82050</td>\n",
       "      <td>1</td>\n",
       "      <td>0</td>\n",
       "      <td>0</td>\n",
       "      <td>1</td>\n",
       "      <td>0</td>\n",
       "    </tr>\n",
       "    <tr>\n",
       "      <th>7892-POOKP</th>\n",
       "      <td>34.062125</td>\n",
       "      <td>-118.315709</td>\n",
       "      <td>1</td>\n",
       "      <td>0</td>\n",
       "      <td>1</td>\n",
       "      <td>1</td>\n",
       "      <td>28</td>\n",
       "      <td>1</td>\n",
       "      <td>1</td>\n",
       "      <td>0</td>\n",
       "      <td>0</td>\n",
       "      <td>1</td>\n",
       "      <td>1</td>\n",
       "      <td>1</td>\n",
       "      <td>1</td>\n",
       "      <td>0.083333</td>\n",
       "      <td>1</td>\n",
       "      <td>104.80</td>\n",
       "      <td>3046.05</td>\n",
       "      <td>1</td>\n",
       "      <td>0.28</td>\n",
       "      <td>1.0480</td>\n",
       "      <td>3.04605</td>\n",
       "      <td>1</td>\n",
       "      <td>0</td>\n",
       "      <td>0</td>\n",
       "      <td>1</td>\n",
       "      <td>0</td>\n",
       "    </tr>\n",
       "    <tr>\n",
       "      <th>0280-XJGEX</th>\n",
       "      <td>34.039224</td>\n",
       "      <td>-118.266293</td>\n",
       "      <td>0</td>\n",
       "      <td>0</td>\n",
       "      <td>0</td>\n",
       "      <td>1</td>\n",
       "      <td>49</td>\n",
       "      <td>1</td>\n",
       "      <td>1</td>\n",
       "      <td>0</td>\n",
       "      <td>1</td>\n",
       "      <td>1</td>\n",
       "      <td>0</td>\n",
       "      <td>1</td>\n",
       "      <td>1</td>\n",
       "      <td>0.083333</td>\n",
       "      <td>1</td>\n",
       "      <td>103.70</td>\n",
       "      <td>5036.30</td>\n",
       "      <td>1</td>\n",
       "      <td>0.49</td>\n",
       "      <td>1.0370</td>\n",
       "      <td>5.03630</td>\n",
       "      <td>1</td>\n",
       "      <td>0</td>\n",
       "      <td>0</td>\n",
       "      <td>0</td>\n",
       "      <td>0</td>\n",
       "    </tr>\n",
       "  </tbody>\n",
       "</table>\n",
       "</div>"
      ],
      "text/plain": [
       "             Latitude   Longitude  Gender  Senior Citizen  Partner  \\\n",
       "CustomerID                                                           \n",
       "3668-QPYBK  33.964131 -118.272783       0               0        0   \n",
       "9237-HQITU  34.059281 -118.307420       1               0        0   \n",
       "9305-CDSKC  34.048013 -118.293953       1               0        0   \n",
       "7892-POOKP  34.062125 -118.315709       1               0        1   \n",
       "0280-XJGEX  34.039224 -118.266293       0               0        0   \n",
       "\n",
       "            Dependents  Tenure Months  Phone Service  Multiple Lines  \\\n",
       "CustomerID                                                             \n",
       "3668-QPYBK           0              2              1               0   \n",
       "9237-HQITU           1              2              1               0   \n",
       "9305-CDSKC           1              8              1               1   \n",
       "7892-POOKP           1             28              1               1   \n",
       "0280-XJGEX           1             49              1               1   \n",
       "\n",
       "            Online Security  Online Backup  Device Protection  Tech Support  \\\n",
       "CustomerID                                                                    \n",
       "3668-QPYBK                1              1                  0             0   \n",
       "9237-HQITU                0              0                  0             0   \n",
       "9305-CDSKC                0              0                  1             0   \n",
       "7892-POOKP                0              0                  1             1   \n",
       "0280-XJGEX                0              1                  1             0   \n",
       "\n",
       "            Streaming TV  Streaming Movies  Contract  Paperless Billing  \\\n",
       "CustomerID                                                                \n",
       "3668-QPYBK             0                 0  0.083333                  1   \n",
       "9237-HQITU             0                 0  0.083333                  1   \n",
       "9305-CDSKC             1                 1  0.083333                  1   \n",
       "7892-POOKP             1                 1  0.083333                  1   \n",
       "0280-XJGEX             1                 1  0.083333                  1   \n",
       "\n",
       "            Monthly Charges  Total Charges  Churn Value  Tenure_scaled  \\\n",
       "CustomerID                                                               \n",
       "3668-QPYBK            53.85         108.15            1           0.02   \n",
       "9237-HQITU            70.70         151.65            1           0.02   \n",
       "9305-CDSKC            99.65         820.50            1           0.08   \n",
       "7892-POOKP           104.80        3046.05            1           0.28   \n",
       "0280-XJGEX           103.70        5036.30            1           0.49   \n",
       "\n",
       "            Monthly Charges_scaled  Total Charges_scaled  is_Fiber optic  \\\n",
       "CustomerID                                                                 \n",
       "3668-QPYBK                  0.5385               0.10815               0   \n",
       "9237-HQITU                  0.7070               0.15165               1   \n",
       "9305-CDSKC                  0.9965               0.82050               1   \n",
       "7892-POOKP                  1.0480               3.04605               1   \n",
       "0280-XJGEX                  1.0370               5.03630               1   \n",
       "\n",
       "            is_No  pay_Credit card (automatic)  pay_Electronic check  \\\n",
       "CustomerID                                                             \n",
       "3668-QPYBK      0                            0                     0   \n",
       "9237-HQITU      0                            0                     1   \n",
       "9305-CDSKC      0                            0                     1   \n",
       "7892-POOKP      0                            0                     1   \n",
       "0280-XJGEX      0                            0                     0   \n",
       "\n",
       "            pay_Mailed check  \n",
       "CustomerID                    \n",
       "3668-QPYBK                 1  \n",
       "9237-HQITU                 0  \n",
       "9305-CDSKC                 0  \n",
       "7892-POOKP                 0  \n",
       "0280-XJGEX                 0  "
      ]
     },
     "execution_count": 8,
     "metadata": {},
     "output_type": "execute_result"
    }
   ],
   "source": [
    "df.head()"
   ]
  },
  {
   "cell_type": "code",
   "execution_count": 9,
   "id": "3733bffe-9c54-40bc-8617-b03f7c8873a8",
   "metadata": {
    "tags": []
   },
   "outputs": [
    {
     "data": {
      "text/plain": [
       "Index(['Latitude', 'Longitude', 'Gender', 'Senior Citizen', 'Partner',\n",
       "       'Dependents', 'Tenure Months', 'Phone Service', 'Multiple Lines',\n",
       "       'Online Security', 'Online Backup', 'Device Protection', 'Tech Support',\n",
       "       'Streaming TV', 'Streaming Movies', 'Contract', 'Paperless Billing',\n",
       "       'Monthly Charges', 'Total Charges', 'Churn Value', 'Tenure_scaled',\n",
       "       'Monthly Charges_scaled', 'Total Charges_scaled', 'is_Fiber optic',\n",
       "       'is_No', 'pay_Credit card (automatic)', 'pay_Electronic check',\n",
       "       'pay_Mailed check'],\n",
       "      dtype='object')"
      ]
     },
     "execution_count": 9,
     "metadata": {},
     "output_type": "execute_result"
    }
   ],
   "source": [
    "df.columns"
   ]
  },
  {
   "cell_type": "code",
   "execution_count": 10,
   "id": "34e50ca9-5867-41ac-8a14-250b69ec2b6b",
   "metadata": {
    "tags": []
   },
   "outputs": [
    {
     "data": {
      "text/plain": [
       "(7043, 28)"
      ]
     },
     "execution_count": 10,
     "metadata": {},
     "output_type": "execute_result"
    }
   ],
   "source": [
    "df.shape"
   ]
  },
  {
   "cell_type": "markdown",
   "id": "3f7be10f-1977-4764-9302-c10ed6176cff",
   "metadata": {},
   "source": [
    "## Create X_train, X_test, y_train, and y_test <a class=\"anchor\" id=\"2\"></a>"
   ]
  },
  {
   "cell_type": "markdown",
   "id": "3567c4e9-1dc8-40a2-bb4b-e0cf37025736",
   "metadata": {},
   "source": [
    "### Experimenting with "
   ]
  },
  {
   "cell_type": "code",
   "execution_count": 9,
   "id": "f5ce1aed-d302-4976-bf70-61cffde9ec8b",
   "metadata": {
    "tags": []
   },
   "outputs": [],
   "source": [
    "feature_cols = ['Latitude', 'Longitude', 'Gender', 'Senior Citizen', 'Partner',\n",
    "       'Dependents', 'Tenure Months', 'Phone Service', 'Multiple Lines',\n",
    "       'Online Security', 'Online Backup', 'Device Protection', 'Tech Support',\n",
    "       'Streaming TV', 'Streaming Movies', 'Contract', 'Paperless Billing',\n",
    "       'Monthly Charges', 'Total Charges', 'is_Fiber optic',\n",
    "       'is_No', 'pay_Credit card (automatic)', 'pay_Electronic check',\n",
    "       'pay_Mailed check']\n",
    "# Test scores (prior to any scaling)\n",
    "# Accuracy:0.7444391859914813\n",
    "# Precision:0.525974025974026\n",
    "# Recall:0.826530612244898\n",
    "# F1:0.6428571428571429"
   ]
  },
  {
   "cell_type": "code",
   "execution_count": 10,
   "id": "d9d6c0fe-6c0a-4924-ac21-114be0944a11",
   "metadata": {
    "tags": []
   },
   "outputs": [],
   "source": [
    "feature_cols = ['Gender', 'Senior Citizen', 'Partner',\n",
    "       'Dependents', 'Tenure Months', 'Phone Service', 'Multiple Lines',\n",
    "       'Online Security', 'Online Backup', 'Device Protection', 'Tech Support',\n",
    "       'Streaming TV', 'Streaming Movies', 'Contract', 'Paperless Billing',\n",
    "       'Monthly Charges', 'Total Charges', 'is_Fiber optic',\n",
    "       'is_No', 'pay_Credit card (automatic)', 'pay_Electronic check',\n",
    "       'pay_Mailed check']\n",
    "\n",
    "# Test scores (prior to any scaling)\n",
    "# Accuracy:0.7444391859914813\n",
    "# Precision:0.5262008733624454\n",
    "# Recall:0.8197278911564626\n",
    "# F1:0.6409574468085106"
   ]
  },
  {
   "cell_type": "code",
   "execution_count": 11,
   "id": "8769cbfb-e862-481f-a25b-f3df2776188b",
   "metadata": {
    "tags": []
   },
   "outputs": [],
   "source": [
    "feature_cols = ['Latitude', 'Longitude', 'Gender', 'Senior Citizen', 'Partner',\n",
    "       'Dependents', \n",
    "       'Online Security', 'Online Backup', 'Device Protection', 'Tech Support',\n",
    "       'Contract', 'Paperless Billing',\n",
    "       'is_Fiber optic', 'is_No', 'pay_Credit card (automatic)', 'pay_Electronic check',\n",
    "       'pay_Mailed check',\n",
    "       'Tenure_scaled', 'Monthly Charges_scaled', 'Total Charges_scaled', ]\n",
    "# Accuracy:0.7482252721249408\n",
    "# Precision:0.5309734513274337\n",
    "# Recall:0.8163265306122449\n",
    "# F1:0.64343163538874"
   ]
  },
  {
   "cell_type": "code",
   "execution_count": 500,
   "id": "980d68ac-8875-406e-8f66-573864874c57",
   "metadata": {
    "tags": []
   },
   "outputs": [],
   "source": [
    "feature_cols = ['Longitude', 'Gender', 'Senior Citizen', 'Partner',\n",
    "       'Dependents', \n",
    "       'Online Security', 'Online Backup', 'Device Protection', 'Tech Support',\n",
    "       'Contract', 'Paperless Billing',\n",
    "       'is_Fiber optic', 'is_No', 'pay_Credit card (automatic)', 'pay_Electronic check',\n",
    "       'pay_Mailed check',\n",
    "       'Tenure_scaled', 'Monthly Charges_scaled']"
   ]
  },
  {
   "cell_type": "code",
   "execution_count": 250,
   "id": "3fdab3c9-a502-44c5-a73b-78744baedf4b",
   "metadata": {
    "tags": []
   },
   "outputs": [],
   "source": [
    "feature_cols = ['Latitude', 'Longitude', 'Gender', 'Senior Citizen', 'Partner',\n",
    "       'Dependents', 'Phone Service', 'Multiple Lines',\n",
    "       'Online Security', 'Online Backup', 'Device Protection', 'Tech Support',\n",
    "       'Streaming TV', 'Streaming Movies', 'Contract', 'Paperless Billing',\n",
    "       'is_Fiber optic', 'is_No', 'pay_Credit card (automatic)', 'pay_Electronic check',\n",
    "       'pay_Mailed check',\n",
    "       'Tenure_scaled', 'Monthly Charges_scaled', 'Total Charges_scaled', ]\n",
    "\n",
    "# Test scores\n",
    "# Accuracy:0.7439659252247989\n",
    "# Precision:0.5256270447110142\n",
    "# Recall:0.8197278911564626\n",
    "# F1:0.640531561461794"
   ]
  },
  {
   "cell_type": "code",
   "execution_count": 307,
   "id": "9b571f74-23a4-4030-8f24-a80d9427fb47",
   "metadata": {
    "tags": []
   },
   "outputs": [],
   "source": [
    "feature_cols = ['Contract', 'Paperless Billing',\n",
    "       'is_Fiber optic', 'is_No', 'pay_Credit card (automatic)', 'pay_Electronic check',\n",
    "       'pay_Mailed check',\n",
    "       'Tenure_scaled', 'Monthly Charges_scaled', 'Total Charges_scaled', ]\n",
    "# Accuracy:0.7236157122574538\n",
    "# Precision:0.5020964360587002\n",
    "# Recall:0.814625850340136\n",
    "# F1:0.6212710765239948"
   ]
  },
  {
   "cell_type": "code",
   "execution_count": 359,
   "id": "41bece7d-0469-40b7-a9ad-8504c65cabe9",
   "metadata": {
    "tags": []
   },
   "outputs": [],
   "source": [
    "feature_cols = ['Contract',\n",
    "       'is_Fiber optic', 'is_No', \n",
    "       'Tenure_scaled', 'Monthly Charges_scaled', 'Total Charges_scaled', ]\n",
    "# Accuracy:0.7122574538570753\n",
    "# Precision:0.48973305954825463\n",
    "# Recall:0.8112244897959183\n",
    "# F1:0.6107554417413572\n"
   ]
  },
  {
   "cell_type": "code",
   "execution_count": 382,
   "id": "0a2fc635-a62e-4b4d-a34b-bf002b38e320",
   "metadata": {
    "tags": []
   },
   "outputs": [],
   "source": [
    "feature_cols = ['Contract',\n",
    "       'is_Fiber optic', 'is_No', \n",
    "       'Tenure_scaled' ]\n",
    "# Accuracy:0.7127307146237577\n",
    "# Precision:0.49019607843137253\n",
    "# Recall:0.8078231292517006\n",
    "# F1:0.6101477199743095"
   ]
  },
  {
   "cell_type": "markdown",
   "id": "bef1e70c-900e-4be1-8065-e9a4b326cdce",
   "metadata": {},
   "source": [
    "#### Final Decision"
   ]
  },
  {
   "cell_type": "code",
   "execution_count": 11,
   "id": "db1200aa-4d71-4825-a2a6-dcefa9860c67",
   "metadata": {
    "tags": []
   },
   "outputs": [],
   "source": [
    "###### USE THIS ONE #########\n",
    "feature_cols = ['Latitude', 'Longitude', 'Gender', 'Senior Citizen', 'Partner',\n",
    "       'Dependents', \n",
    "       'Online Security', 'Online Backup', 'Device Protection', 'Tech Support',\n",
    "       'Streaming TV', 'Streaming Movies', 'Contract', 'Paperless Billing',\n",
    "       'is_Fiber optic', 'is_No', 'pay_Credit card (automatic)', 'pay_Electronic check',\n",
    "       'pay_Mailed check',\n",
    "       'Tenure_scaled', 'Monthly Charges_scaled', 'Total Charges_scaled', ]\n",
    "# Accuracy:0.7477520113582584\n",
    "# Precision:0.5301866081229418\n",
    "# Recall:0.8214285714285714\n",
    "# F1:0.6444296197464976"
   ]
  },
  {
   "cell_type": "code",
   "execution_count": 12,
   "id": "638590d9-5c4a-4229-9df5-e644788169c5",
   "metadata": {
    "tags": []
   },
   "outputs": [],
   "source": [
    "X_train, X_test, y_train, y_test = train_test_split(df[feature_cols], #X\n",
    "                                                    df['Churn Value'], #y\n",
    "                                                    test_size = 0.3, \n",
    "                                                    random_state = 42)"
   ]
  },
  {
   "cell_type": "markdown",
   "id": "850b69c9-bea6-411c-8b0f-e4f6addfa402",
   "metadata": {},
   "source": [
    "## Predictive Modelling <a class=\"anchor\" id=\"3\"></a>"
   ]
  },
  {
   "cell_type": "code",
   "execution_count": 13,
   "id": "f927a5d7-8d14-4e21-b0a7-e98cf9e104f2",
   "metadata": {
    "tags": []
   },
   "outputs": [],
   "source": [
    "## one function for accuracy, precision, and recall\n",
    "\n",
    "def apr(y_pred, y_real):\n",
    "    accuracy = metrics.accuracy_score(y_real, y_pred)\n",
    "    precision = metrics.precision_score(y_real, y_pred)\n",
    "    recall = metrics.recall_score(y_real, y_pred)\n",
    "    f1 = metrics.f1_score(y_real, y_pred)\n",
    "    \n",
    "    print(f\"Accuracy:{accuracy}\")\n",
    "    print(f\"Precision:{precision}\")\n",
    "    print(f\"Recall:{recall}\")\n",
    "    print(f\"F1:{f1}\")\n",
    "    return accuracy, precision, recall, f1\n",
    "\n",
    "\n",
    "## one function for confusion matrix\n",
    "\n",
    "def produce_confusion(positive_label, negative_label, cut_off, df, y_pred_name, y_real_name):\n",
    "    \n",
    "    #Set pred to 0 or 1 depending on whether it's higher than the cut_off point.\n",
    "    \n",
    "    if cut_off != 'binary':      \n",
    "        df['pred_binary'] = np.where(df[y_pred_name] > cut_off , 1, 0)\n",
    "    else: \n",
    "        df['pred_binary'] = df[y_pred_name]\n",
    "    \n",
    "    #Build the CM\n",
    "    cm = confusion_matrix(df[y_real_name], df['pred_binary'])  \n",
    "    \n",
    "    ax= plt.subplot()\n",
    "    sns.heatmap(cm, annot=True, ax=ax, fmt='g'); \n",
    "\n",
    "    # labels, title, ticks\n",
    "    ax.set_xlabel('Predicted labels');ax.set_ylabel('Real labels'); \n",
    "    ax.set_title('Confusion Matrix'); \n",
    "    ax.xaxis.set_ticklabels([negative_label, positive_label])\n",
    "    ax.yaxis.set_ticklabels([negative_label, positive_label]);\n",
    "\n",
    "    print('Test accuracy = ', accuracy_score(df[y_real_name], df['pred_binary']))\n",
    "\n",
    "    return accuracy_score(df[y_real_name], df['pred_binary'])"
   ]
  },
  {
   "cell_type": "code",
   "execution_count": 14,
   "id": "550cc373-2a43-4b26-9ea5-1c57507c234d",
   "metadata": {
    "tags": []
   },
   "outputs": [
    {
     "name": "stderr",
     "output_type": "stream",
     "text": [
      "c:\\Users\\matth\\anaconda3\\Lib\\site-packages\\sklearn\\linear_model\\_logistic.py:458: ConvergenceWarning: lbfgs failed to converge (status=1):\n",
      "STOP: TOTAL NO. of ITERATIONS REACHED LIMIT.\n",
      "\n",
      "Increase the number of iterations (max_iter) or scale the data as shown in:\n",
      "    https://scikit-learn.org/stable/modules/preprocessing.html\n",
      "Please also refer to the documentation for alternative solver options:\n",
      "    https://scikit-learn.org/stable/modules/linear_model.html#logistic-regression\n",
      "  n_iter_i = _check_optimize_result(\n"
     ]
    },
    {
     "data": {
      "text/html": [
       "<style>#sk-container-id-1 {color: black;background-color: white;}#sk-container-id-1 pre{padding: 0;}#sk-container-id-1 div.sk-toggleable {background-color: white;}#sk-container-id-1 label.sk-toggleable__label {cursor: pointer;display: block;width: 100%;margin-bottom: 0;padding: 0.3em;box-sizing: border-box;text-align: center;}#sk-container-id-1 label.sk-toggleable__label-arrow:before {content: \"▸\";float: left;margin-right: 0.25em;color: #696969;}#sk-container-id-1 label.sk-toggleable__label-arrow:hover:before {color: black;}#sk-container-id-1 div.sk-estimator:hover label.sk-toggleable__label-arrow:before {color: black;}#sk-container-id-1 div.sk-toggleable__content {max-height: 0;max-width: 0;overflow: hidden;text-align: left;background-color: #f0f8ff;}#sk-container-id-1 div.sk-toggleable__content pre {margin: 0.2em;color: black;border-radius: 0.25em;background-color: #f0f8ff;}#sk-container-id-1 input.sk-toggleable__control:checked~div.sk-toggleable__content {max-height: 200px;max-width: 100%;overflow: auto;}#sk-container-id-1 input.sk-toggleable__control:checked~label.sk-toggleable__label-arrow:before {content: \"▾\";}#sk-container-id-1 div.sk-estimator input.sk-toggleable__control:checked~label.sk-toggleable__label {background-color: #d4ebff;}#sk-container-id-1 div.sk-label input.sk-toggleable__control:checked~label.sk-toggleable__label {background-color: #d4ebff;}#sk-container-id-1 input.sk-hidden--visually {border: 0;clip: rect(1px 1px 1px 1px);clip: rect(1px, 1px, 1px, 1px);height: 1px;margin: -1px;overflow: hidden;padding: 0;position: absolute;width: 1px;}#sk-container-id-1 div.sk-estimator {font-family: monospace;background-color: #f0f8ff;border: 1px dotted black;border-radius: 0.25em;box-sizing: border-box;margin-bottom: 0.5em;}#sk-container-id-1 div.sk-estimator:hover {background-color: #d4ebff;}#sk-container-id-1 div.sk-parallel-item::after {content: \"\";width: 100%;border-bottom: 1px solid gray;flex-grow: 1;}#sk-container-id-1 div.sk-label:hover label.sk-toggleable__label {background-color: #d4ebff;}#sk-container-id-1 div.sk-serial::before {content: \"\";position: absolute;border-left: 1px solid gray;box-sizing: border-box;top: 0;bottom: 0;left: 50%;z-index: 0;}#sk-container-id-1 div.sk-serial {display: flex;flex-direction: column;align-items: center;background-color: white;padding-right: 0.2em;padding-left: 0.2em;position: relative;}#sk-container-id-1 div.sk-item {position: relative;z-index: 1;}#sk-container-id-1 div.sk-parallel {display: flex;align-items: stretch;justify-content: center;background-color: white;position: relative;}#sk-container-id-1 div.sk-item::before, #sk-container-id-1 div.sk-parallel-item::before {content: \"\";position: absolute;border-left: 1px solid gray;box-sizing: border-box;top: 0;bottom: 0;left: 50%;z-index: -1;}#sk-container-id-1 div.sk-parallel-item {display: flex;flex-direction: column;z-index: 1;position: relative;background-color: white;}#sk-container-id-1 div.sk-parallel-item:first-child::after {align-self: flex-end;width: 50%;}#sk-container-id-1 div.sk-parallel-item:last-child::after {align-self: flex-start;width: 50%;}#sk-container-id-1 div.sk-parallel-item:only-child::after {width: 0;}#sk-container-id-1 div.sk-dashed-wrapped {border: 1px dashed gray;margin: 0 0.4em 0.5em 0.4em;box-sizing: border-box;padding-bottom: 0.4em;background-color: white;}#sk-container-id-1 div.sk-label label {font-family: monospace;font-weight: bold;display: inline-block;line-height: 1.2em;}#sk-container-id-1 div.sk-label-container {text-align: center;}#sk-container-id-1 div.sk-container {/* jupyter's `normalize.less` sets `[hidden] { display: none; }` but bootstrap.min.css set `[hidden] { display: none !important; }` so we also need the `!important` here to be able to override the default hidden behavior on the sphinx rendered scikit-learn.org. See: https://github.com/scikit-learn/scikit-learn/issues/21755 */display: inline-block !important;position: relative;}#sk-container-id-1 div.sk-text-repr-fallback {display: none;}</style><div id=\"sk-container-id-1\" class=\"sk-top-container\"><div class=\"sk-text-repr-fallback\"><pre>LogisticRegression(class_weight=&#x27;balanced&#x27;, max_iter=500, random_state=10)</pre><b>In a Jupyter environment, please rerun this cell to show the HTML representation or trust the notebook. <br />On GitHub, the HTML representation is unable to render, please try loading this page with nbviewer.org.</b></div><div class=\"sk-container\" hidden><div class=\"sk-item\"><div class=\"sk-estimator sk-toggleable\"><input class=\"sk-toggleable__control sk-hidden--visually\" id=\"sk-estimator-id-1\" type=\"checkbox\" checked><label for=\"sk-estimator-id-1\" class=\"sk-toggleable__label sk-toggleable__label-arrow\">LogisticRegression</label><div class=\"sk-toggleable__content\"><pre>LogisticRegression(class_weight=&#x27;balanced&#x27;, max_iter=500, random_state=10)</pre></div></div></div></div></div>"
      ],
      "text/plain": [
       "LogisticRegression(class_weight='balanced', max_iter=500, random_state=10)"
      ]
     },
     "execution_count": 14,
     "metadata": {},
     "output_type": "execute_result"
    }
   ],
   "source": [
    "# create and fit logistic regression model\n",
    "lr = LogisticRegression(max_iter=500, random_state=10, class_weight='balanced')\n",
    "lr.fit(X_train, y_train)"
   ]
  },
  {
   "cell_type": "code",
   "execution_count": 15,
   "id": "213098b0-a0de-4404-8cd7-793c3beb394a",
   "metadata": {
    "tags": []
   },
   "outputs": [
    {
     "name": "stdout",
     "output_type": "stream",
     "text": [
      "Accuracy:0.7592292089249493\n",
      "Precision:0.5235235235235235\n",
      "Recall:0.8165495706479313\n",
      "F1:0.6379993900579445\n"
     ]
    },
    {
     "data": {
      "text/plain": [
       "(0.7592292089249493,\n",
       " 0.5235235235235235,\n",
       " 0.8165495706479313,\n",
       " 0.6379993900579445)"
      ]
     },
     "execution_count": 15,
     "metadata": {},
     "output_type": "execute_result"
    }
   ],
   "source": [
    "# predict on X_train\n",
    "# create new columns to store the probabilities and predictions\n",
    "X_train = X_train.copy()\n",
    "X_train[['prob_not_churn', 'prob_churn']] = lr.predict_proba(X_train)\n",
    "X_train['y_pred'] = np.where(X_train['prob_churn']>.5, 1, 0)\n",
    "\n",
    "# show metrics\n",
    "apr(X_train['y_pred'], y_train)"
   ]
  },
  {
   "cell_type": "markdown",
   "id": "dd5a8311-cf34-4568-9e74-ae53f6690b6f",
   "metadata": {},
   "source": [
    "## On Test Data "
   ]
  },
  {
   "cell_type": "code",
   "execution_count": 16,
   "id": "4c2f754f-d58c-4ee0-ba11-142f10224c2c",
   "metadata": {
    "tags": []
   },
   "outputs": [
    {
     "name": "stdout",
     "output_type": "stream",
     "text": [
      "Accuracy:0.7477520113582584\n",
      "Precision:0.5301866081229418\n",
      "Recall:0.8214285714285714\n",
      "F1:0.6444296197464976\n"
     ]
    },
    {
     "data": {
      "text/plain": [
       "(0.7477520113582584,\n",
       " 0.5301866081229418,\n",
       " 0.8214285714285714,\n",
       " 0.6444296197464976)"
      ]
     },
     "execution_count": 16,
     "metadata": {},
     "output_type": "execute_result"
    }
   ],
   "source": [
    "# predict on X_test\n",
    "# create new columns to store the probabilities and predictions\n",
    "X_test = X_test.copy()\n",
    "X_test[['prob_not_churn', 'prob_churn']] = lr.predict_proba(X_test)\n",
    "X_test['y_pred'] = np.where(X_test['prob_churn']>.5, 1, 0)\n",
    "\n",
    "# show metrics\n",
    "apr(X_test['y_pred'], y_test)"
   ]
  },
  {
   "cell_type": "markdown",
   "id": "2b848e44-4ab2-4f9e-bc1d-ea1126b31927",
   "metadata": {},
   "source": [
    "## Create Required Lists <a class=\"anchor\" id=\"4\"></a>"
   ]
  },
  {
   "cell_type": "code",
   "execution_count": 17,
   "id": "2f93322e-d49d-40eb-a0e7-588e9b0fdac5",
   "metadata": {
    "tags": []
   },
   "outputs": [],
   "source": [
    "# create a copy of the full dataset\n",
    "df_mod = df.copy()"
   ]
  },
  {
   "cell_type": "code",
   "execution_count": 18,
   "id": "b6fcc995-1242-4dd2-959a-f46733c6e89b",
   "metadata": {
    "tags": []
   },
   "outputs": [
    {
     "data": {
      "text/plain": [
       "Index(['Latitude', 'Longitude', 'Gender', 'Senior Citizen', 'Partner',\n",
       "       'Dependents', 'Tenure Months', 'Phone Service', 'Multiple Lines',\n",
       "       'Online Security', 'Online Backup', 'Device Protection', 'Tech Support',\n",
       "       'Streaming TV', 'Streaming Movies', 'Contract', 'Paperless Billing',\n",
       "       'Monthly Charges', 'Total Charges', 'Churn Value', 'Tenure_scaled',\n",
       "       'Monthly Charges_scaled', 'Total Charges_scaled', 'is_Fiber optic',\n",
       "       'is_No', 'pay_Credit card (automatic)', 'pay_Electronic check',\n",
       "       'pay_Mailed check'],\n",
       "      dtype='object')"
      ]
     },
     "execution_count": 18,
     "metadata": {},
     "output_type": "execute_result"
    }
   ],
   "source": [
    "df_mod.columns"
   ]
  },
  {
   "cell_type": "code",
   "execution_count": 19,
   "id": "63f45d2f-0975-40d5-8850-78d16a2d9c6f",
   "metadata": {
    "tags": []
   },
   "outputs": [],
   "source": [
    "# apply model to full dataset\n",
    "# create new columns to store the probabilities and predictions\n",
    "df_mod[['Not Churn Probability', 'Churn Probability']] = lr.predict_proba(df_mod[feature_cols])   # predict probabilites for not churning and churning\n",
    "df_mod['y_pred'] = np.where(df_mod['Churn Probability']>.5, 1, 0)                                 # predictions based on a threshold of 0.5"
   ]
  },
  {
   "cell_type": "code",
   "execution_count": 20,
   "id": "04c38ca4-a22b-4448-9d34-40d65cf24899",
   "metadata": {
    "tags": []
   },
   "outputs": [
    {
     "data": {
      "text/html": [
       "<div>\n",
       "<style scoped>\n",
       "    .dataframe tbody tr th:only-of-type {\n",
       "        vertical-align: middle;\n",
       "    }\n",
       "\n",
       "    .dataframe tbody tr th {\n",
       "        vertical-align: top;\n",
       "    }\n",
       "\n",
       "    .dataframe thead th {\n",
       "        text-align: right;\n",
       "    }\n",
       "</style>\n",
       "<table border=\"1\" class=\"dataframe\">\n",
       "  <thead>\n",
       "    <tr style=\"text-align: right;\">\n",
       "      <th></th>\n",
       "      <th>Latitude</th>\n",
       "      <th>Longitude</th>\n",
       "      <th>Gender</th>\n",
       "      <th>Senior Citizen</th>\n",
       "      <th>Partner</th>\n",
       "      <th>Dependents</th>\n",
       "      <th>Tenure Months</th>\n",
       "      <th>Phone Service</th>\n",
       "      <th>Multiple Lines</th>\n",
       "      <th>Online Security</th>\n",
       "      <th>Online Backup</th>\n",
       "      <th>Device Protection</th>\n",
       "      <th>Tech Support</th>\n",
       "      <th>Streaming TV</th>\n",
       "      <th>Streaming Movies</th>\n",
       "      <th>Contract</th>\n",
       "      <th>Paperless Billing</th>\n",
       "      <th>Monthly Charges</th>\n",
       "      <th>Total Charges</th>\n",
       "      <th>Churn Value</th>\n",
       "      <th>Tenure_scaled</th>\n",
       "      <th>Monthly Charges_scaled</th>\n",
       "      <th>Total Charges_scaled</th>\n",
       "      <th>is_Fiber optic</th>\n",
       "      <th>is_No</th>\n",
       "      <th>pay_Credit card (automatic)</th>\n",
       "      <th>pay_Electronic check</th>\n",
       "      <th>pay_Mailed check</th>\n",
       "      <th>Not Churn Probability</th>\n",
       "      <th>Churn Probability</th>\n",
       "      <th>y_pred</th>\n",
       "    </tr>\n",
       "    <tr>\n",
       "      <th>CustomerID</th>\n",
       "      <th></th>\n",
       "      <th></th>\n",
       "      <th></th>\n",
       "      <th></th>\n",
       "      <th></th>\n",
       "      <th></th>\n",
       "      <th></th>\n",
       "      <th></th>\n",
       "      <th></th>\n",
       "      <th></th>\n",
       "      <th></th>\n",
       "      <th></th>\n",
       "      <th></th>\n",
       "      <th></th>\n",
       "      <th></th>\n",
       "      <th></th>\n",
       "      <th></th>\n",
       "      <th></th>\n",
       "      <th></th>\n",
       "      <th></th>\n",
       "      <th></th>\n",
       "      <th></th>\n",
       "      <th></th>\n",
       "      <th></th>\n",
       "      <th></th>\n",
       "      <th></th>\n",
       "      <th></th>\n",
       "      <th></th>\n",
       "      <th></th>\n",
       "      <th></th>\n",
       "      <th></th>\n",
       "    </tr>\n",
       "  </thead>\n",
       "  <tbody>\n",
       "    <tr>\n",
       "      <th>3668-QPYBK</th>\n",
       "      <td>33.964131</td>\n",
       "      <td>-118.272783</td>\n",
       "      <td>0</td>\n",
       "      <td>0</td>\n",
       "      <td>0</td>\n",
       "      <td>0</td>\n",
       "      <td>2</td>\n",
       "      <td>1</td>\n",
       "      <td>0</td>\n",
       "      <td>1</td>\n",
       "      <td>1</td>\n",
       "      <td>0</td>\n",
       "      <td>0</td>\n",
       "      <td>0</td>\n",
       "      <td>0</td>\n",
       "      <td>0.083333</td>\n",
       "      <td>1</td>\n",
       "      <td>53.85</td>\n",
       "      <td>108.15</td>\n",
       "      <td>1</td>\n",
       "      <td>0.02</td>\n",
       "      <td>0.5385</td>\n",
       "      <td>0.10815</td>\n",
       "      <td>0</td>\n",
       "      <td>0</td>\n",
       "      <td>0</td>\n",
       "      <td>0</td>\n",
       "      <td>1</td>\n",
       "      <td>0.379998</td>\n",
       "      <td>0.620002</td>\n",
       "      <td>1</td>\n",
       "    </tr>\n",
       "    <tr>\n",
       "      <th>9237-HQITU</th>\n",
       "      <td>34.059281</td>\n",
       "      <td>-118.307420</td>\n",
       "      <td>1</td>\n",
       "      <td>0</td>\n",
       "      <td>0</td>\n",
       "      <td>1</td>\n",
       "      <td>2</td>\n",
       "      <td>1</td>\n",
       "      <td>0</td>\n",
       "      <td>0</td>\n",
       "      <td>0</td>\n",
       "      <td>0</td>\n",
       "      <td>0</td>\n",
       "      <td>0</td>\n",
       "      <td>0</td>\n",
       "      <td>0.083333</td>\n",
       "      <td>1</td>\n",
       "      <td>70.70</td>\n",
       "      <td>151.65</td>\n",
       "      <td>1</td>\n",
       "      <td>0.02</td>\n",
       "      <td>0.7070</td>\n",
       "      <td>0.15165</td>\n",
       "      <td>1</td>\n",
       "      <td>0</td>\n",
       "      <td>0</td>\n",
       "      <td>1</td>\n",
       "      <td>0</td>\n",
       "      <td>0.374652</td>\n",
       "      <td>0.625348</td>\n",
       "      <td>1</td>\n",
       "    </tr>\n",
       "    <tr>\n",
       "      <th>9305-CDSKC</th>\n",
       "      <td>34.048013</td>\n",
       "      <td>-118.293953</td>\n",
       "      <td>1</td>\n",
       "      <td>0</td>\n",
       "      <td>0</td>\n",
       "      <td>1</td>\n",
       "      <td>8</td>\n",
       "      <td>1</td>\n",
       "      <td>1</td>\n",
       "      <td>0</td>\n",
       "      <td>0</td>\n",
       "      <td>1</td>\n",
       "      <td>0</td>\n",
       "      <td>1</td>\n",
       "      <td>1</td>\n",
       "      <td>0.083333</td>\n",
       "      <td>1</td>\n",
       "      <td>99.65</td>\n",
       "      <td>820.50</td>\n",
       "      <td>1</td>\n",
       "      <td>0.08</td>\n",
       "      <td>0.9965</td>\n",
       "      <td>0.82050</td>\n",
       "      <td>1</td>\n",
       "      <td>0</td>\n",
       "      <td>0</td>\n",
       "      <td>1</td>\n",
       "      <td>0</td>\n",
       "      <td>0.303831</td>\n",
       "      <td>0.696169</td>\n",
       "      <td>1</td>\n",
       "    </tr>\n",
       "    <tr>\n",
       "      <th>7892-POOKP</th>\n",
       "      <td>34.062125</td>\n",
       "      <td>-118.315709</td>\n",
       "      <td>1</td>\n",
       "      <td>0</td>\n",
       "      <td>1</td>\n",
       "      <td>1</td>\n",
       "      <td>28</td>\n",
       "      <td>1</td>\n",
       "      <td>1</td>\n",
       "      <td>0</td>\n",
       "      <td>0</td>\n",
       "      <td>1</td>\n",
       "      <td>1</td>\n",
       "      <td>1</td>\n",
       "      <td>1</td>\n",
       "      <td>0.083333</td>\n",
       "      <td>1</td>\n",
       "      <td>104.80</td>\n",
       "      <td>3046.05</td>\n",
       "      <td>1</td>\n",
       "      <td>0.28</td>\n",
       "      <td>1.0480</td>\n",
       "      <td>3.04605</td>\n",
       "      <td>1</td>\n",
       "      <td>0</td>\n",
       "      <td>0</td>\n",
       "      <td>1</td>\n",
       "      <td>0</td>\n",
       "      <td>0.435244</td>\n",
       "      <td>0.564756</td>\n",
       "      <td>1</td>\n",
       "    </tr>\n",
       "    <tr>\n",
       "      <th>0280-XJGEX</th>\n",
       "      <td>34.039224</td>\n",
       "      <td>-118.266293</td>\n",
       "      <td>0</td>\n",
       "      <td>0</td>\n",
       "      <td>0</td>\n",
       "      <td>1</td>\n",
       "      <td>49</td>\n",
       "      <td>1</td>\n",
       "      <td>1</td>\n",
       "      <td>0</td>\n",
       "      <td>1</td>\n",
       "      <td>1</td>\n",
       "      <td>0</td>\n",
       "      <td>1</td>\n",
       "      <td>1</td>\n",
       "      <td>0.083333</td>\n",
       "      <td>1</td>\n",
       "      <td>103.70</td>\n",
       "      <td>5036.30</td>\n",
       "      <td>1</td>\n",
       "      <td>0.49</td>\n",
       "      <td>1.0370</td>\n",
       "      <td>5.03630</td>\n",
       "      <td>1</td>\n",
       "      <td>0</td>\n",
       "      <td>0</td>\n",
       "      <td>0</td>\n",
       "      <td>0</td>\n",
       "      <td>0.647646</td>\n",
       "      <td>0.352354</td>\n",
       "      <td>0</td>\n",
       "    </tr>\n",
       "  </tbody>\n",
       "</table>\n",
       "</div>"
      ],
      "text/plain": [
       "             Latitude   Longitude  Gender  Senior Citizen  Partner  \\\n",
       "CustomerID                                                           \n",
       "3668-QPYBK  33.964131 -118.272783       0               0        0   \n",
       "9237-HQITU  34.059281 -118.307420       1               0        0   \n",
       "9305-CDSKC  34.048013 -118.293953       1               0        0   \n",
       "7892-POOKP  34.062125 -118.315709       1               0        1   \n",
       "0280-XJGEX  34.039224 -118.266293       0               0        0   \n",
       "\n",
       "            Dependents  Tenure Months  Phone Service  Multiple Lines  \\\n",
       "CustomerID                                                             \n",
       "3668-QPYBK           0              2              1               0   \n",
       "9237-HQITU           1              2              1               0   \n",
       "9305-CDSKC           1              8              1               1   \n",
       "7892-POOKP           1             28              1               1   \n",
       "0280-XJGEX           1             49              1               1   \n",
       "\n",
       "            Online Security  Online Backup  Device Protection  Tech Support  \\\n",
       "CustomerID                                                                    \n",
       "3668-QPYBK                1              1                  0             0   \n",
       "9237-HQITU                0              0                  0             0   \n",
       "9305-CDSKC                0              0                  1             0   \n",
       "7892-POOKP                0              0                  1             1   \n",
       "0280-XJGEX                0              1                  1             0   \n",
       "\n",
       "            Streaming TV  Streaming Movies  Contract  Paperless Billing  \\\n",
       "CustomerID                                                                \n",
       "3668-QPYBK             0                 0  0.083333                  1   \n",
       "9237-HQITU             0                 0  0.083333                  1   \n",
       "9305-CDSKC             1                 1  0.083333                  1   \n",
       "7892-POOKP             1                 1  0.083333                  1   \n",
       "0280-XJGEX             1                 1  0.083333                  1   \n",
       "\n",
       "            Monthly Charges  Total Charges  Churn Value  Tenure_scaled  \\\n",
       "CustomerID                                                               \n",
       "3668-QPYBK            53.85         108.15            1           0.02   \n",
       "9237-HQITU            70.70         151.65            1           0.02   \n",
       "9305-CDSKC            99.65         820.50            1           0.08   \n",
       "7892-POOKP           104.80        3046.05            1           0.28   \n",
       "0280-XJGEX           103.70        5036.30            1           0.49   \n",
       "\n",
       "            Monthly Charges_scaled  Total Charges_scaled  is_Fiber optic  \\\n",
       "CustomerID                                                                 \n",
       "3668-QPYBK                  0.5385               0.10815               0   \n",
       "9237-HQITU                  0.7070               0.15165               1   \n",
       "9305-CDSKC                  0.9965               0.82050               1   \n",
       "7892-POOKP                  1.0480               3.04605               1   \n",
       "0280-XJGEX                  1.0370               5.03630               1   \n",
       "\n",
       "            is_No  pay_Credit card (automatic)  pay_Electronic check  \\\n",
       "CustomerID                                                             \n",
       "3668-QPYBK      0                            0                     0   \n",
       "9237-HQITU      0                            0                     1   \n",
       "9305-CDSKC      0                            0                     1   \n",
       "7892-POOKP      0                            0                     1   \n",
       "0280-XJGEX      0                            0                     0   \n",
       "\n",
       "            pay_Mailed check  Not Churn Probability  Churn Probability  y_pred  \n",
       "CustomerID                                                                      \n",
       "3668-QPYBK                 1               0.379998           0.620002       1  \n",
       "9237-HQITU                 0               0.374652           0.625348       1  \n",
       "9305-CDSKC                 0               0.303831           0.696169       1  \n",
       "7892-POOKP                 0               0.435244           0.564756       1  \n",
       "0280-XJGEX                 0               0.647646           0.352354       0  "
      ]
     },
     "execution_count": 20,
     "metadata": {},
     "output_type": "execute_result"
    }
   ],
   "source": [
    "df_mod.head()"
   ]
  },
  {
   "cell_type": "code",
   "execution_count": 21,
   "id": "91b4f17f-3f34-4fb3-abeb-e63b3e682c31",
   "metadata": {
    "tags": []
   },
   "outputs": [],
   "source": [
    "# filter for those that have not yet churned\n",
    "not_churned = df_mod[df_mod['Churn Value'] == 0]"
   ]
  },
  {
   "cell_type": "code",
   "execution_count": 23,
   "id": "2f858172-4f5f-493c-a03c-5ed0512bce82",
   "metadata": {
    "tags": []
   },
   "outputs": [],
   "source": []
  },
  {
   "cell_type": "code",
   "execution_count": 144,
   "id": "0391636e-f4fc-4144-9886-b8efda91df57",
   "metadata": {
    "tags": []
   },
   "outputs": [],
   "source": [
    "# Open the file in write mode\n",
    "with open(\"churn_risk.txt\", \"w\") as my_file:\n",
    "    # Iterate over the DataFrame rows using iterrows() to get index and row data\n",
    "    for customer_id, row in not_churned.iterrows():\n",
    "        # Write the customer ID and churn probability to the file\n",
    "        my_file.write(f\"Customer ID: {customer_id}, Churn Probability: {row['Churn Probability']}\\n\")"
   ]
  },
  {
   "cell_type": "code",
   "execution_count": 26,
   "id": "4f454887",
   "metadata": {},
   "outputs": [],
   "source": [
    "not_churned[\"Churn Probability\"].to_csv(\"churn_risk.csv\")"
   ]
  },
  {
   "cell_type": "code",
   "execution_count": 27,
   "id": "4ebf8404",
   "metadata": {},
   "outputs": [],
   "source": [
    "with open(\"most_likely_churners.txt\", \"w\") as txt:\n",
    "    for id in list(not_churned.sort_values('Churn Probability', ascending=False).index[:500]):\n",
    "        txt.write(id)\n",
    "        txt.write(\"\\n\")\n"
   ]
  }
 ],
 "metadata": {
  "kernelspec": {
   "display_name": "Python 3 (ipykernel)",
   "language": "python",
   "name": "python3"
  },
  "language_info": {
   "codemirror_mode": {
    "name": "ipython",
    "version": 3
   },
   "file_extension": ".py",
   "mimetype": "text/x-python",
   "name": "python",
   "nbconvert_exporter": "python",
   "pygments_lexer": "ipython3",
   "version": "3.11.7"
  }
 },
 "nbformat": 4,
 "nbformat_minor": 5
}
