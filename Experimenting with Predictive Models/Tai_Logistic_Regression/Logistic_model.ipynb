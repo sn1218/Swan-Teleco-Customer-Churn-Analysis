{
 "cells": [
  {
   "cell_type": "markdown",
   "metadata": {},
   "source": [
    "# Ugly Duckings Churn Prediction"
   ]
  },
  {
   "cell_type": "markdown",
   "metadata": {
    "tags": []
   },
   "source": [
    "## Import required packages"
   ]
  },
  {
   "cell_type": "code",
   "execution_count": 333,
   "metadata": {
    "tags": []
   },
   "outputs": [],
   "source": [
    "import pandas as pd\n",
    "import numpy as np\n",
    "import matplotlib.pyplot as plt\n",
    "import seaborn as sns\n",
    "\n",
    "from sklearn.linear_model import LogisticRegression # is the package to build the linear regression model\n",
    "from sklearn import metrics # contains functions for module evaluation\n",
    "from sklearn.utils.class_weight import compute_class_weight\n",
    "\n",
    "# train/test split lib\n",
    "from sklearn.model_selection import train_test_split, GridSearchCV\n",
    "from sklearn.preprocessing import StandardScaler, RobustScaler, MinMaxScaler\n",
    "from sklearn.feature_selection import SelectFromModel\n",
    "\n",
    "# Statsmodels\n",
    "import statsmodels.api as sm # models\n",
    "import statsmodels.tools # metrics\n",
    "\n",
    "# Smote\n",
    "from imblearn.over_sampling import SMOTE\n",
    "\n",
    "import ast"
   ]
  },
  {
   "cell_type": "markdown",
   "metadata": {
    "tags": []
   },
   "source": [
    "## Load Data"
   ]
  },
  {
   "cell_type": "code",
   "execution_count": 171,
   "metadata": {
    "tags": []
   },
   "outputs": [],
   "source": [
    "pd.options.display.max_columns = None"
   ]
  },
  {
   "cell_type": "code",
   "execution_count": 173,
   "metadata": {
    "tags": []
   },
   "outputs": [],
   "source": [
    "df = pd.read_csv(\"../swan_data.csv\")"
   ]
  },
  {
   "cell_type": "markdown",
   "metadata": {
    "tags": []
   },
   "source": [
    "## Cleaning and Feature Engineering Functions"
   ]
  },
  {
   "cell_type": "code",
   "execution_count": 176,
   "metadata": {
    "tags": []
   },
   "outputs": [],
   "source": [
    "def data_cleaning(df):\n",
    "    #Making a copy of the dataset\n",
    "    df = df.copy()\n",
    "\n",
    "    #Using CustomerID as index\n",
    "    df.set_index(\"CustomerID\", inplace=True)\n",
    "\n",
    "    #Fixing Total Charges column - inserting zeroes for blank columns and casting to float\n",
    "    df[\"Total Charges\"] = df[\"Total Charges\"].str.replace(\" \", \"0\")\n",
    "    df = df.astype({\"Total Charges\": float})\n",
    "\n",
    "    #Dropping unnecessary columns\n",
    "    df.drop(columns=[\"Count\", \"Country\", \"State\", \"City\", \"Zip Code\", \"Lat Long\", \"Churn Label\", \"Churn Reason\"], inplace=True)\n",
    "\n",
    "    #Mapping columns to numeric values\n",
    "    #General case, where values are \"yes\" and \"no\". Results like \"no phone service\" are mapped to 0 since the lack of phone service is contained in a different column\n",
    "    general_mapper = {\"No\":0, \"Yes\":1, \"No phone service\": 0, \"No internet service\": 0}\n",
    "    for col in df.columns:\n",
    "        if \"No\" in df[col].unique() and \"Yes\" in df[col].unique():\n",
    "            df[col] = df[col].map(general_mapper)\n",
    "    \n",
    "    #Mapping male to 0 and female to 1\n",
    "    gender_mapper = {\"Male\":0, \"Female\":1}\n",
    "    df[\"Gender\"] = df[\"Gender\"].map(gender_mapper)\n",
    "\n",
    "    #Mapping contract lengths into a value representing the length of the contract term in years\n",
    "    contract_mapper = {\"Month-to-month\": 1/12, \"Two year\": 2, \"One year\":1}\n",
    "    df[\"Contract\"] = df[\"Contract\"].map(contract_mapper)\n",
    "\n",
    "    return df\n"
   ]
  },
  {
   "cell_type": "code",
   "execution_count": 178,
   "metadata": {
    "tags": []
   },
   "outputs": [],
   "source": [
    "def min_max_scaling(df, train, col):\n",
    "    minimum = train[col].min() # Min of train\n",
    "    maximum = train[col].max() # Max of train\n",
    "    df[col] = (df[col] - minimum) / (maximum-minimum) # Applying scaling\n",
    "    return df[col] ## Returned scaled column\n"
   ]
  },
  {
   "cell_type": "code",
   "execution_count": 180,
   "metadata": {
    "tags": []
   },
   "outputs": [],
   "source": [
    "def metrics_func(actual, pred):\n",
    "    accuracy = metrics.accuracy_score(actual, pred)\n",
    "    precision = metrics.precision_score(actual, pred)\n",
    "    recall = metrics.recall_score(actual, pred)\n",
    "    f1 = metrics.f1_score(actual, pred)\n",
    "\n",
    "    print(f'accuracy: {accuracy*100}%')\n",
    "    print(f'precision: {precision*100}%')\n",
    "    print(f'recall: {recall*100}%')\n",
    "    print(f'f1: {f1*100}%')"
   ]
  },
  {
   "cell_type": "code",
   "execution_count": 182,
   "metadata": {
    "tags": []
   },
   "outputs": [],
   "source": [
    "def cutoff_change(target, data, n):\n",
    "    data['y_pred'] = np.where(data.prob_churn > n, # Threshold\n",
    "                                   1, # Condition if met\n",
    "                                   0) # Condition if not met\n",
    "    return metrics_func(target, data['y_pred'])"
   ]
  },
  {
   "cell_type": "code",
   "execution_count": 184,
   "metadata": {
    "tags": []
   },
   "outputs": [],
   "source": [
    "def feature_engineering(df):\n",
    "    # Columns to scale\n",
    "    #scale_cols = ['Monthly Charges','Total Charges','Tenure Months']\n",
    "    \n",
    "    # Apply min-max scaling to columns listed above\n",
    "   # for col in scale_cols:\n",
    "      #  df[col] = min_max_scaling(df, train, col)\n",
    "    \n",
    "    # OHE Payment Method and Internet Service columns\n",
    "    df = pd.get_dummies(df, \n",
    "                        columns = ['Payment Method', 'Internet Service'], \n",
    "                        prefix = ['pay','is'], \n",
    "                        drop_first = True, \n",
    "                        dtype = int)\n",
    "    \n",
    "    \n",
    "    return df.drop(columns = ['Partner', 'Paperless Billing'])"
   ]
  },
  {
   "cell_type": "markdown",
   "metadata": {
    "tags": []
   },
   "source": [
    "# Logistic Regression Model"
   ]
  },
  {
   "cell_type": "code",
   "execution_count": 187,
   "metadata": {
    "tags": []
   },
   "outputs": [],
   "source": [
    "df_clean = data_cleaning(df)"
   ]
  },
  {
   "cell_type": "code",
   "execution_count": 189,
   "metadata": {
    "tags": []
   },
   "outputs": [],
   "source": [
    "X = df_clean.drop(columns = 'Churn Value').copy()\n",
    "y = df_clean['Churn Value'].copy()\n",
    "\n",
    "X_train, X_test, y_train, y_test = train_test_split(X, # features\n",
    "                                                    y, # target\n",
    "                                                    test_size=0.2, # What proportion of data is for testing\n",
    "                                                    random_state=1204) ## Seed for random split"
   ]
  },
  {
   "cell_type": "code",
   "execution_count": 191,
   "metadata": {},
   "outputs": [],
   "source": [
    "X_train_fe = feature_engineering(X_train)"
   ]
  },
  {
   "cell_type": "code",
   "execution_count": 193,
   "metadata": {
    "tags": []
   },
   "outputs": [
    {
     "data": {
      "text/plain": [
       "True"
      ]
     },
     "execution_count": 193,
     "metadata": {},
     "output_type": "execute_result"
    }
   ],
   "source": [
    "all(X_train_fe.index == y_train.index) # sanity check"
   ]
  },
  {
   "cell_type": "markdown",
   "metadata": {},
   "source": [
    "### Initial model"
   ]
  },
  {
   "cell_type": "code",
   "execution_count": 197,
   "metadata": {
    "tags": []
   },
   "outputs": [],
   "source": [
    "first_logreg = LogisticRegression(max_iter=10000, \n",
    "                                    penalty='l1', \n",
    "                                    solver='liblinear')"
   ]
  },
  {
   "cell_type": "code",
   "execution_count": 199,
   "metadata": {
    "tags": []
   },
   "outputs": [
    {
     "data": {
      "text/html": [
       "<style>#sk-container-id-4 {color: black;background-color: white;}#sk-container-id-4 pre{padding: 0;}#sk-container-id-4 div.sk-toggleable {background-color: white;}#sk-container-id-4 label.sk-toggleable__label {cursor: pointer;display: block;width: 100%;margin-bottom: 0;padding: 0.3em;box-sizing: border-box;text-align: center;}#sk-container-id-4 label.sk-toggleable__label-arrow:before {content: \"▸\";float: left;margin-right: 0.25em;color: #696969;}#sk-container-id-4 label.sk-toggleable__label-arrow:hover:before {color: black;}#sk-container-id-4 div.sk-estimator:hover label.sk-toggleable__label-arrow:before {color: black;}#sk-container-id-4 div.sk-toggleable__content {max-height: 0;max-width: 0;overflow: hidden;text-align: left;background-color: #f0f8ff;}#sk-container-id-4 div.sk-toggleable__content pre {margin: 0.2em;color: black;border-radius: 0.25em;background-color: #f0f8ff;}#sk-container-id-4 input.sk-toggleable__control:checked~div.sk-toggleable__content {max-height: 200px;max-width: 100%;overflow: auto;}#sk-container-id-4 input.sk-toggleable__control:checked~label.sk-toggleable__label-arrow:before {content: \"▾\";}#sk-container-id-4 div.sk-estimator input.sk-toggleable__control:checked~label.sk-toggleable__label {background-color: #d4ebff;}#sk-container-id-4 div.sk-label input.sk-toggleable__control:checked~label.sk-toggleable__label {background-color: #d4ebff;}#sk-container-id-4 input.sk-hidden--visually {border: 0;clip: rect(1px 1px 1px 1px);clip: rect(1px, 1px, 1px, 1px);height: 1px;margin: -1px;overflow: hidden;padding: 0;position: absolute;width: 1px;}#sk-container-id-4 div.sk-estimator {font-family: monospace;background-color: #f0f8ff;border: 1px dotted black;border-radius: 0.25em;box-sizing: border-box;margin-bottom: 0.5em;}#sk-container-id-4 div.sk-estimator:hover {background-color: #d4ebff;}#sk-container-id-4 div.sk-parallel-item::after {content: \"\";width: 100%;border-bottom: 1px solid gray;flex-grow: 1;}#sk-container-id-4 div.sk-label:hover label.sk-toggleable__label {background-color: #d4ebff;}#sk-container-id-4 div.sk-serial::before {content: \"\";position: absolute;border-left: 1px solid gray;box-sizing: border-box;top: 0;bottom: 0;left: 50%;z-index: 0;}#sk-container-id-4 div.sk-serial {display: flex;flex-direction: column;align-items: center;background-color: white;padding-right: 0.2em;padding-left: 0.2em;position: relative;}#sk-container-id-4 div.sk-item {position: relative;z-index: 1;}#sk-container-id-4 div.sk-parallel {display: flex;align-items: stretch;justify-content: center;background-color: white;position: relative;}#sk-container-id-4 div.sk-item::before, #sk-container-id-4 div.sk-parallel-item::before {content: \"\";position: absolute;border-left: 1px solid gray;box-sizing: border-box;top: 0;bottom: 0;left: 50%;z-index: -1;}#sk-container-id-4 div.sk-parallel-item {display: flex;flex-direction: column;z-index: 1;position: relative;background-color: white;}#sk-container-id-4 div.sk-parallel-item:first-child::after {align-self: flex-end;width: 50%;}#sk-container-id-4 div.sk-parallel-item:last-child::after {align-self: flex-start;width: 50%;}#sk-container-id-4 div.sk-parallel-item:only-child::after {width: 0;}#sk-container-id-4 div.sk-dashed-wrapped {border: 1px dashed gray;margin: 0 0.4em 0.5em 0.4em;box-sizing: border-box;padding-bottom: 0.4em;background-color: white;}#sk-container-id-4 div.sk-label label {font-family: monospace;font-weight: bold;display: inline-block;line-height: 1.2em;}#sk-container-id-4 div.sk-label-container {text-align: center;}#sk-container-id-4 div.sk-container {/* jupyter's `normalize.less` sets `[hidden] { display: none; }` but bootstrap.min.css set `[hidden] { display: none !important; }` so we also need the `!important` here to be able to override the default hidden behavior on the sphinx rendered scikit-learn.org. See: https://github.com/scikit-learn/scikit-learn/issues/21755 */display: inline-block !important;position: relative;}#sk-container-id-4 div.sk-text-repr-fallback {display: none;}</style><div id=\"sk-container-id-4\" class=\"sk-top-container\"><div class=\"sk-text-repr-fallback\"><pre>LogisticRegression(max_iter=10000, penalty=&#x27;l1&#x27;, solver=&#x27;liblinear&#x27;)</pre><b>In a Jupyter environment, please rerun this cell to show the HTML representation or trust the notebook. <br />On GitHub, the HTML representation is unable to render, please try loading this page with nbviewer.org.</b></div><div class=\"sk-container\" hidden><div class=\"sk-item\"><div class=\"sk-estimator sk-toggleable\"><input class=\"sk-toggleable__control sk-hidden--visually\" id=\"sk-estimator-id-6\" type=\"checkbox\" checked><label for=\"sk-estimator-id-6\" class=\"sk-toggleable__label sk-toggleable__label-arrow\">LogisticRegression</label><div class=\"sk-toggleable__content\"><pre>LogisticRegression(max_iter=10000, penalty=&#x27;l1&#x27;, solver=&#x27;liblinear&#x27;)</pre></div></div></div></div></div>"
      ],
      "text/plain": [
       "LogisticRegression(max_iter=10000, penalty='l1', solver='liblinear')"
      ]
     },
     "execution_count": 199,
     "metadata": {},
     "output_type": "execute_result"
    }
   ],
   "source": [
    "first_logreg.fit(X_train_fe, y_train)"
   ]
  },
  {
   "cell_type": "markdown",
   "metadata": {},
   "source": [
    "### Feature selection"
   ]
  },
  {
   "cell_type": "code",
   "execution_count": 230,
   "metadata": {
    "tags": []
   },
   "outputs": [],
   "source": [
    "# Initialising selected model\n",
    "selection = SelectFromModel(first_logreg, # initial model\n",
    "                            prefit=True, # Has first_logreg already been fit\n",
    "                            importance_getter='coef_',\n",
    "                            threshold='median') # Determines selection of features based on coefficients\n",
    "\n",
    "# \n",
    "X_train_sel = selection.fit_transform(X_train_fe)\n",
    "\n",
    "### Stack exchange\n",
    "feature_idx = selection.get_support()\n",
    "feature_name = X_train_fe.columns[feature_idx]\n",
    "\n",
    "X_train_sel = pd.DataFrame(X_train_sel, columns = feature_name)"
   ]
  },
  {
   "cell_type": "code",
   "execution_count": 266,
   "metadata": {
    "tags": []
   },
   "outputs": [
    {
     "data": {
      "text/html": [
       "<div>\n",
       "<style scoped>\n",
       "    .dataframe tbody tr th:only-of-type {\n",
       "        vertical-align: middle;\n",
       "    }\n",
       "\n",
       "    .dataframe tbody tr th {\n",
       "        vertical-align: top;\n",
       "    }\n",
       "\n",
       "    .dataframe thead th {\n",
       "        text-align: right;\n",
       "    }\n",
       "</style>\n",
       "<table border=\"1\" class=\"dataframe\">\n",
       "  <thead>\n",
       "    <tr style=\"text-align: right;\">\n",
       "      <th></th>\n",
       "      <th>Dependents</th>\n",
       "      <th>Phone Service</th>\n",
       "      <th>Multiple Lines</th>\n",
       "      <th>Online Security</th>\n",
       "      <th>Online Backup</th>\n",
       "      <th>Tech Support</th>\n",
       "      <th>Streaming Movies</th>\n",
       "      <th>Contract</th>\n",
       "      <th>pay_Electronic check</th>\n",
       "      <th>is_Fiber optic</th>\n",
       "      <th>is_No</th>\n",
       "    </tr>\n",
       "  </thead>\n",
       "  <tbody>\n",
       "    <tr>\n",
       "      <th>0</th>\n",
       "      <td>0.0</td>\n",
       "      <td>1.0</td>\n",
       "      <td>1.0</td>\n",
       "      <td>0.0</td>\n",
       "      <td>1.0</td>\n",
       "      <td>0.0</td>\n",
       "      <td>1.0</td>\n",
       "      <td>0.083333</td>\n",
       "      <td>0.0</td>\n",
       "      <td>1.0</td>\n",
       "      <td>0.0</td>\n",
       "    </tr>\n",
       "    <tr>\n",
       "      <th>1</th>\n",
       "      <td>0.0</td>\n",
       "      <td>1.0</td>\n",
       "      <td>1.0</td>\n",
       "      <td>1.0</td>\n",
       "      <td>0.0</td>\n",
       "      <td>0.0</td>\n",
       "      <td>1.0</td>\n",
       "      <td>0.083333</td>\n",
       "      <td>1.0</td>\n",
       "      <td>1.0</td>\n",
       "      <td>0.0</td>\n",
       "    </tr>\n",
       "    <tr>\n",
       "      <th>2</th>\n",
       "      <td>0.0</td>\n",
       "      <td>1.0</td>\n",
       "      <td>1.0</td>\n",
       "      <td>1.0</td>\n",
       "      <td>0.0</td>\n",
       "      <td>0.0</td>\n",
       "      <td>1.0</td>\n",
       "      <td>0.083333</td>\n",
       "      <td>1.0</td>\n",
       "      <td>1.0</td>\n",
       "      <td>0.0</td>\n",
       "    </tr>\n",
       "    <tr>\n",
       "      <th>3</th>\n",
       "      <td>0.0</td>\n",
       "      <td>1.0</td>\n",
       "      <td>0.0</td>\n",
       "      <td>0.0</td>\n",
       "      <td>1.0</td>\n",
       "      <td>0.0</td>\n",
       "      <td>0.0</td>\n",
       "      <td>1.000000</td>\n",
       "      <td>0.0</td>\n",
       "      <td>0.0</td>\n",
       "      <td>0.0</td>\n",
       "    </tr>\n",
       "    <tr>\n",
       "      <th>4</th>\n",
       "      <td>0.0</td>\n",
       "      <td>1.0</td>\n",
       "      <td>1.0</td>\n",
       "      <td>1.0</td>\n",
       "      <td>1.0</td>\n",
       "      <td>0.0</td>\n",
       "      <td>1.0</td>\n",
       "      <td>1.000000</td>\n",
       "      <td>1.0</td>\n",
       "      <td>1.0</td>\n",
       "      <td>0.0</td>\n",
       "    </tr>\n",
       "  </tbody>\n",
       "</table>\n",
       "</div>"
      ],
      "text/plain": [
       "   Dependents  Phone Service  Multiple Lines  Online Security  Online Backup  \\\n",
       "0         0.0            1.0             1.0              0.0            1.0   \n",
       "1         0.0            1.0             1.0              1.0            0.0   \n",
       "2         0.0            1.0             1.0              1.0            0.0   \n",
       "3         0.0            1.0             0.0              0.0            1.0   \n",
       "4         0.0            1.0             1.0              1.0            1.0   \n",
       "\n",
       "   Tech Support  Streaming Movies  Contract  pay_Electronic check  \\\n",
       "0           0.0               1.0  0.083333                   0.0   \n",
       "1           0.0               1.0  0.083333                   1.0   \n",
       "2           0.0               1.0  0.083333                   1.0   \n",
       "3           0.0               0.0  1.000000                   0.0   \n",
       "4           0.0               1.0  1.000000                   1.0   \n",
       "\n",
       "   is_Fiber optic  is_No  \n",
       "0             1.0    0.0  \n",
       "1             1.0    0.0  \n",
       "2             1.0    0.0  \n",
       "3             0.0    0.0  \n",
       "4             1.0    0.0  "
      ]
     },
     "execution_count": 266,
     "metadata": {},
     "output_type": "execute_result"
    }
   ],
   "source": [
    "X_train_sel.head()"
   ]
  },
  {
   "cell_type": "markdown",
   "metadata": {
    "tags": []
   },
   "source": [
    "### Class imbalance"
   ]
  },
  {
   "cell_type": "code",
   "execution_count": 232,
   "metadata": {
    "tags": []
   },
   "outputs": [],
   "source": [
    "# Define the SMOTE model\n",
    "smote = SMOTE()\n",
    "\n",
    "# Apply SMOTE to the training data\n",
    "X_train_smote, y_train_smote = smote.fit_resample(X_train_sel, y_train)"
   ]
  },
  {
   "cell_type": "code",
   "execution_count": 274,
   "metadata": {
    "tags": []
   },
   "outputs": [
    {
     "data": {
      "text/plain": [
       "Churn Value\n",
       "0    4141\n",
       "1    4141\n",
       "Name: count, dtype: int64"
      ]
     },
     "execution_count": 274,
     "metadata": {},
     "output_type": "execute_result"
    }
   ],
   "source": [
    "y_train_smote.value_counts()"
   ]
  },
  {
   "cell_type": "markdown",
   "metadata": {},
   "source": [
    "### Optimise recall"
   ]
  },
  {
   "cell_type": "code",
   "execution_count": 234,
   "metadata": {
    "tags": []
   },
   "outputs": [],
   "source": [
    "log_reg = LogisticRegression(penalty = 'l1', solver='liblinear')"
   ]
  },
  {
   "cell_type": "code",
   "execution_count": 236,
   "metadata": {
    "tags": []
   },
   "outputs": [
    {
     "data": {
      "text/html": [
       "<style>#sk-container-id-6 {color: black;background-color: white;}#sk-container-id-6 pre{padding: 0;}#sk-container-id-6 div.sk-toggleable {background-color: white;}#sk-container-id-6 label.sk-toggleable__label {cursor: pointer;display: block;width: 100%;margin-bottom: 0;padding: 0.3em;box-sizing: border-box;text-align: center;}#sk-container-id-6 label.sk-toggleable__label-arrow:before {content: \"▸\";float: left;margin-right: 0.25em;color: #696969;}#sk-container-id-6 label.sk-toggleable__label-arrow:hover:before {color: black;}#sk-container-id-6 div.sk-estimator:hover label.sk-toggleable__label-arrow:before {color: black;}#sk-container-id-6 div.sk-toggleable__content {max-height: 0;max-width: 0;overflow: hidden;text-align: left;background-color: #f0f8ff;}#sk-container-id-6 div.sk-toggleable__content pre {margin: 0.2em;color: black;border-radius: 0.25em;background-color: #f0f8ff;}#sk-container-id-6 input.sk-toggleable__control:checked~div.sk-toggleable__content {max-height: 200px;max-width: 100%;overflow: auto;}#sk-container-id-6 input.sk-toggleable__control:checked~label.sk-toggleable__label-arrow:before {content: \"▾\";}#sk-container-id-6 div.sk-estimator input.sk-toggleable__control:checked~label.sk-toggleable__label {background-color: #d4ebff;}#sk-container-id-6 div.sk-label input.sk-toggleable__control:checked~label.sk-toggleable__label {background-color: #d4ebff;}#sk-container-id-6 input.sk-hidden--visually {border: 0;clip: rect(1px 1px 1px 1px);clip: rect(1px, 1px, 1px, 1px);height: 1px;margin: -1px;overflow: hidden;padding: 0;position: absolute;width: 1px;}#sk-container-id-6 div.sk-estimator {font-family: monospace;background-color: #f0f8ff;border: 1px dotted black;border-radius: 0.25em;box-sizing: border-box;margin-bottom: 0.5em;}#sk-container-id-6 div.sk-estimator:hover {background-color: #d4ebff;}#sk-container-id-6 div.sk-parallel-item::after {content: \"\";width: 100%;border-bottom: 1px solid gray;flex-grow: 1;}#sk-container-id-6 div.sk-label:hover label.sk-toggleable__label {background-color: #d4ebff;}#sk-container-id-6 div.sk-serial::before {content: \"\";position: absolute;border-left: 1px solid gray;box-sizing: border-box;top: 0;bottom: 0;left: 50%;z-index: 0;}#sk-container-id-6 div.sk-serial {display: flex;flex-direction: column;align-items: center;background-color: white;padding-right: 0.2em;padding-left: 0.2em;position: relative;}#sk-container-id-6 div.sk-item {position: relative;z-index: 1;}#sk-container-id-6 div.sk-parallel {display: flex;align-items: stretch;justify-content: center;background-color: white;position: relative;}#sk-container-id-6 div.sk-item::before, #sk-container-id-6 div.sk-parallel-item::before {content: \"\";position: absolute;border-left: 1px solid gray;box-sizing: border-box;top: 0;bottom: 0;left: 50%;z-index: -1;}#sk-container-id-6 div.sk-parallel-item {display: flex;flex-direction: column;z-index: 1;position: relative;background-color: white;}#sk-container-id-6 div.sk-parallel-item:first-child::after {align-self: flex-end;width: 50%;}#sk-container-id-6 div.sk-parallel-item:last-child::after {align-self: flex-start;width: 50%;}#sk-container-id-6 div.sk-parallel-item:only-child::after {width: 0;}#sk-container-id-6 div.sk-dashed-wrapped {border: 1px dashed gray;margin: 0 0.4em 0.5em 0.4em;box-sizing: border-box;padding-bottom: 0.4em;background-color: white;}#sk-container-id-6 div.sk-label label {font-family: monospace;font-weight: bold;display: inline-block;line-height: 1.2em;}#sk-container-id-6 div.sk-label-container {text-align: center;}#sk-container-id-6 div.sk-container {/* jupyter's `normalize.less` sets `[hidden] { display: none; }` but bootstrap.min.css set `[hidden] { display: none !important; }` so we also need the `!important` here to be able to override the default hidden behavior on the sphinx rendered scikit-learn.org. See: https://github.com/scikit-learn/scikit-learn/issues/21755 */display: inline-block !important;position: relative;}#sk-container-id-6 div.sk-text-repr-fallback {display: none;}</style><div id=\"sk-container-id-6\" class=\"sk-top-container\"><div class=\"sk-text-repr-fallback\"><pre>GridSearchCV(cv=10,\n",
       "             estimator=LogisticRegression(C=0.1, max_iter=1000, penalty=&#x27;l1&#x27;,\n",
       "                                          solver=&#x27;liblinear&#x27;),\n",
       "             param_grid={&#x27;C&#x27;: [0.01, 0.1, 1, 10, 100],\n",
       "                         &#x27;max_iter&#x27;: [500, 1000, 5000, 10000]},\n",
       "             scoring=&#x27;recall&#x27;)</pre><b>In a Jupyter environment, please rerun this cell to show the HTML representation or trust the notebook. <br />On GitHub, the HTML representation is unable to render, please try loading this page with nbviewer.org.</b></div><div class=\"sk-container\" hidden><div class=\"sk-item sk-dashed-wrapped\"><div class=\"sk-label-container\"><div class=\"sk-label sk-toggleable\"><input class=\"sk-toggleable__control sk-hidden--visually\" id=\"sk-estimator-id-10\" type=\"checkbox\" ><label for=\"sk-estimator-id-10\" class=\"sk-toggleable__label sk-toggleable__label-arrow\">GridSearchCV</label><div class=\"sk-toggleable__content\"><pre>GridSearchCV(cv=10,\n",
       "             estimator=LogisticRegression(C=0.1, max_iter=1000, penalty=&#x27;l1&#x27;,\n",
       "                                          solver=&#x27;liblinear&#x27;),\n",
       "             param_grid={&#x27;C&#x27;: [0.01, 0.1, 1, 10, 100],\n",
       "                         &#x27;max_iter&#x27;: [500, 1000, 5000, 10000]},\n",
       "             scoring=&#x27;recall&#x27;)</pre></div></div></div><div class=\"sk-parallel\"><div class=\"sk-parallel-item\"><div class=\"sk-item\"><div class=\"sk-label-container\"><div class=\"sk-label sk-toggleable\"><input class=\"sk-toggleable__control sk-hidden--visually\" id=\"sk-estimator-id-11\" type=\"checkbox\" ><label for=\"sk-estimator-id-11\" class=\"sk-toggleable__label sk-toggleable__label-arrow\">estimator: LogisticRegression</label><div class=\"sk-toggleable__content\"><pre>LogisticRegression(C=0.1, max_iter=1000, penalty=&#x27;l1&#x27;, solver=&#x27;liblinear&#x27;)</pre></div></div></div><div class=\"sk-serial\"><div class=\"sk-item\"><div class=\"sk-estimator sk-toggleable\"><input class=\"sk-toggleable__control sk-hidden--visually\" id=\"sk-estimator-id-12\" type=\"checkbox\" ><label for=\"sk-estimator-id-12\" class=\"sk-toggleable__label sk-toggleable__label-arrow\">LogisticRegression</label><div class=\"sk-toggleable__content\"><pre>LogisticRegression(C=0.1, max_iter=1000, penalty=&#x27;l1&#x27;, solver=&#x27;liblinear&#x27;)</pre></div></div></div></div></div></div></div></div></div></div>"
      ],
      "text/plain": [
       "GridSearchCV(cv=10,\n",
       "             estimator=LogisticRegression(C=0.1, max_iter=1000, penalty='l1',\n",
       "                                          solver='liblinear'),\n",
       "             param_grid={'C': [0.01, 0.1, 1, 10, 100],\n",
       "                         'max_iter': [500, 1000, 5000, 10000]},\n",
       "             scoring='recall')"
      ]
     },
     "execution_count": 236,
     "metadata": {},
     "output_type": "execute_result"
    }
   ],
   "source": [
    "# Define the parameter grid\n",
    "param_grid = {\n",
    "    'C': [0.01, 0.1, 1, 10, 100],\n",
    "    'max_iter': [500,1000,5000,10000]\n",
    "}\n",
    "\n",
    "# Implement GridSearchCV\n",
    "grid_search = GridSearchCV(sk_results, param_grid, cv=10, scoring='recall')\n",
    "grid_search.fit(X_train_smote, y_train_smote)"
   ]
  },
  {
   "cell_type": "code",
   "execution_count": 237,
   "metadata": {
    "tags": []
   },
   "outputs": [],
   "source": [
    "best_accuracy = grid_search.best_estimator_"
   ]
  },
  {
   "cell_type": "markdown",
   "metadata": {},
   "source": [
    "### Model in use"
   ]
  },
  {
   "cell_type": "code",
   "execution_count": 238,
   "metadata": {
    "tags": []
   },
   "outputs": [],
   "source": [
    "X_train_smote[['prob_retain','prob_churn']] = best_accuracy.predict_proba(X_train_smote)"
   ]
  },
  {
   "cell_type": "code",
   "execution_count": 260,
   "metadata": {
    "tags": []
   },
   "outputs": [
    {
     "name": "stdout",
     "output_type": "stream",
     "text": [
      "accuracy: 77.07075585607342%\n",
      "precision: 74.52954048140043%\n",
      "recall: 82.25066409079932%\n",
      "f1: 78.19997704052348%\n"
     ]
    }
   ],
   "source": [
    "cutoff_change(y_train_smote, X_train_smote, 0.5)"
   ]
  },
  {
   "cell_type": "code",
   "execution_count": 262,
   "metadata": {
    "tags": []
   },
   "outputs": [
    {
     "name": "stdout",
     "output_type": "stream",
     "text": [
      "accuracy: 73.59829666430092%\n",
      "precision: 50.330033003300336%\n",
      "recall: 81.11702127659575%\n",
      "f1: 62.11812627291242%\n"
     ]
    }
   ],
   "source": [
    "X_test_fe = feature_engineering(X_test)\n",
    "X_test_sel = selection.transform(X_test_fe)\n",
    "X_test_sel = pd.DataFrame(X_test_sel, columns=feature_name)\n",
    "\n",
    "X_test_sel[['prob_retain','prob_churn']] = best_accuracy.predict_proba(X_test_sel)\n",
    "\n",
    "cutoff_change(y_test, X_test_sel, 0.5)"
   ]
  },
  {
   "cell_type": "code",
   "execution_count": 280,
   "metadata": {
    "tags": []
   },
   "outputs": [
    {
     "data": {
      "text/html": [
       "<div>\n",
       "<style scoped>\n",
       "    .dataframe tbody tr th:only-of-type {\n",
       "        vertical-align: middle;\n",
       "    }\n",
       "\n",
       "    .dataframe tbody tr th {\n",
       "        vertical-align: top;\n",
       "    }\n",
       "\n",
       "    .dataframe thead th {\n",
       "        text-align: right;\n",
       "    }\n",
       "</style>\n",
       "<table border=\"1\" class=\"dataframe\">\n",
       "  <thead>\n",
       "    <tr style=\"text-align: right;\">\n",
       "      <th></th>\n",
       "      <th>Dependents</th>\n",
       "      <th>Phone Service</th>\n",
       "      <th>Multiple Lines</th>\n",
       "      <th>Online Security</th>\n",
       "      <th>Online Backup</th>\n",
       "      <th>Tech Support</th>\n",
       "      <th>Streaming Movies</th>\n",
       "      <th>Contract</th>\n",
       "      <th>pay_Electronic check</th>\n",
       "      <th>is_Fiber optic</th>\n",
       "      <th>is_No</th>\n",
       "      <th>prob_retain</th>\n",
       "      <th>prob_churn</th>\n",
       "      <th>y_pred</th>\n",
       "    </tr>\n",
       "  </thead>\n",
       "  <tbody>\n",
       "    <tr>\n",
       "      <th>0</th>\n",
       "      <td>0.0</td>\n",
       "      <td>1.0</td>\n",
       "      <td>1.0</td>\n",
       "      <td>0.0</td>\n",
       "      <td>1.0</td>\n",
       "      <td>0.0</td>\n",
       "      <td>1.0</td>\n",
       "      <td>0.083333</td>\n",
       "      <td>0.0</td>\n",
       "      <td>1.0</td>\n",
       "      <td>0.0</td>\n",
       "      <td>0.253254</td>\n",
       "      <td>0.746746</td>\n",
       "      <td>1</td>\n",
       "    </tr>\n",
       "    <tr>\n",
       "      <th>1</th>\n",
       "      <td>0.0</td>\n",
       "      <td>1.0</td>\n",
       "      <td>1.0</td>\n",
       "      <td>1.0</td>\n",
       "      <td>0.0</td>\n",
       "      <td>0.0</td>\n",
       "      <td>1.0</td>\n",
       "      <td>0.083333</td>\n",
       "      <td>1.0</td>\n",
       "      <td>1.0</td>\n",
       "      <td>0.0</td>\n",
       "      <td>0.186281</td>\n",
       "      <td>0.813719</td>\n",
       "      <td>1</td>\n",
       "    </tr>\n",
       "    <tr>\n",
       "      <th>2</th>\n",
       "      <td>0.0</td>\n",
       "      <td>1.0</td>\n",
       "      <td>1.0</td>\n",
       "      <td>1.0</td>\n",
       "      <td>0.0</td>\n",
       "      <td>0.0</td>\n",
       "      <td>1.0</td>\n",
       "      <td>0.083333</td>\n",
       "      <td>1.0</td>\n",
       "      <td>1.0</td>\n",
       "      <td>0.0</td>\n",
       "      <td>0.186281</td>\n",
       "      <td>0.813719</td>\n",
       "      <td>1</td>\n",
       "    </tr>\n",
       "    <tr>\n",
       "      <th>3</th>\n",
       "      <td>0.0</td>\n",
       "      <td>1.0</td>\n",
       "      <td>0.0</td>\n",
       "      <td>0.0</td>\n",
       "      <td>1.0</td>\n",
       "      <td>0.0</td>\n",
       "      <td>0.0</td>\n",
       "      <td>1.000000</td>\n",
       "      <td>0.0</td>\n",
       "      <td>0.0</td>\n",
       "      <td>0.0</td>\n",
       "      <td>0.761589</td>\n",
       "      <td>0.238411</td>\n",
       "      <td>0</td>\n",
       "    </tr>\n",
       "    <tr>\n",
       "      <th>4</th>\n",
       "      <td>0.0</td>\n",
       "      <td>1.0</td>\n",
       "      <td>1.0</td>\n",
       "      <td>1.0</td>\n",
       "      <td>1.0</td>\n",
       "      <td>0.0</td>\n",
       "      <td>1.0</td>\n",
       "      <td>1.000000</td>\n",
       "      <td>1.0</td>\n",
       "      <td>1.0</td>\n",
       "      <td>0.0</td>\n",
       "      <td>0.551568</td>\n",
       "      <td>0.448432</td>\n",
       "      <td>0</td>\n",
       "    </tr>\n",
       "    <tr>\n",
       "      <th>...</th>\n",
       "      <td>...</td>\n",
       "      <td>...</td>\n",
       "      <td>...</td>\n",
       "      <td>...</td>\n",
       "      <td>...</td>\n",
       "      <td>...</td>\n",
       "      <td>...</td>\n",
       "      <td>...</td>\n",
       "      <td>...</td>\n",
       "      <td>...</td>\n",
       "      <td>...</td>\n",
       "      <td>...</td>\n",
       "      <td>...</td>\n",
       "      <td>...</td>\n",
       "    </tr>\n",
       "    <tr>\n",
       "      <th>8277</th>\n",
       "      <td>0.0</td>\n",
       "      <td>1.0</td>\n",
       "      <td>0.0</td>\n",
       "      <td>0.0</td>\n",
       "      <td>0.0</td>\n",
       "      <td>0.0</td>\n",
       "      <td>0.0</td>\n",
       "      <td>0.083333</td>\n",
       "      <td>0.0</td>\n",
       "      <td>0.0</td>\n",
       "      <td>1.0</td>\n",
       "      <td>0.603424</td>\n",
       "      <td>0.396576</td>\n",
       "      <td>0</td>\n",
       "    </tr>\n",
       "    <tr>\n",
       "      <th>8278</th>\n",
       "      <td>0.0</td>\n",
       "      <td>1.0</td>\n",
       "      <td>1.0</td>\n",
       "      <td>0.0</td>\n",
       "      <td>1.0</td>\n",
       "      <td>0.0</td>\n",
       "      <td>0.0</td>\n",
       "      <td>0.083333</td>\n",
       "      <td>1.0</td>\n",
       "      <td>1.0</td>\n",
       "      <td>0.0</td>\n",
       "      <td>0.207590</td>\n",
       "      <td>0.792410</td>\n",
       "      <td>1</td>\n",
       "    </tr>\n",
       "    <tr>\n",
       "      <th>8279</th>\n",
       "      <td>0.0</td>\n",
       "      <td>1.0</td>\n",
       "      <td>1.0</td>\n",
       "      <td>0.0</td>\n",
       "      <td>1.0</td>\n",
       "      <td>0.0</td>\n",
       "      <td>1.0</td>\n",
       "      <td>0.083333</td>\n",
       "      <td>1.0</td>\n",
       "      <td>1.0</td>\n",
       "      <td>0.0</td>\n",
       "      <td>0.178404</td>\n",
       "      <td>0.821596</td>\n",
       "      <td>1</td>\n",
       "    </tr>\n",
       "    <tr>\n",
       "      <th>8280</th>\n",
       "      <td>0.0</td>\n",
       "      <td>1.0</td>\n",
       "      <td>0.0</td>\n",
       "      <td>0.0</td>\n",
       "      <td>0.0</td>\n",
       "      <td>0.0</td>\n",
       "      <td>1.0</td>\n",
       "      <td>0.083333</td>\n",
       "      <td>1.0</td>\n",
       "      <td>1.0</td>\n",
       "      <td>0.0</td>\n",
       "      <td>0.135582</td>\n",
       "      <td>0.864418</td>\n",
       "      <td>1</td>\n",
       "    </tr>\n",
       "    <tr>\n",
       "      <th>8281</th>\n",
       "      <td>0.0</td>\n",
       "      <td>1.0</td>\n",
       "      <td>0.0</td>\n",
       "      <td>0.0</td>\n",
       "      <td>0.0</td>\n",
       "      <td>0.0</td>\n",
       "      <td>0.0</td>\n",
       "      <td>0.083333</td>\n",
       "      <td>1.0</td>\n",
       "      <td>1.0</td>\n",
       "      <td>0.0</td>\n",
       "      <td>0.159120</td>\n",
       "      <td>0.840880</td>\n",
       "      <td>1</td>\n",
       "    </tr>\n",
       "  </tbody>\n",
       "</table>\n",
       "<p>8282 rows × 14 columns</p>\n",
       "</div>"
      ],
      "text/plain": [
       "      Dependents  Phone Service  Multiple Lines  Online Security  \\\n",
       "0            0.0            1.0             1.0              0.0   \n",
       "1            0.0            1.0             1.0              1.0   \n",
       "2            0.0            1.0             1.0              1.0   \n",
       "3            0.0            1.0             0.0              0.0   \n",
       "4            0.0            1.0             1.0              1.0   \n",
       "...          ...            ...             ...              ...   \n",
       "8277         0.0            1.0             0.0              0.0   \n",
       "8278         0.0            1.0             1.0              0.0   \n",
       "8279         0.0            1.0             1.0              0.0   \n",
       "8280         0.0            1.0             0.0              0.0   \n",
       "8281         0.0            1.0             0.0              0.0   \n",
       "\n",
       "      Online Backup  Tech Support  Streaming Movies  Contract  \\\n",
       "0               1.0           0.0               1.0  0.083333   \n",
       "1               0.0           0.0               1.0  0.083333   \n",
       "2               0.0           0.0               1.0  0.083333   \n",
       "3               1.0           0.0               0.0  1.000000   \n",
       "4               1.0           0.0               1.0  1.000000   \n",
       "...             ...           ...               ...       ...   \n",
       "8277            0.0           0.0               0.0  0.083333   \n",
       "8278            1.0           0.0               0.0  0.083333   \n",
       "8279            1.0           0.0               1.0  0.083333   \n",
       "8280            0.0           0.0               1.0  0.083333   \n",
       "8281            0.0           0.0               0.0  0.083333   \n",
       "\n",
       "      pay_Electronic check  is_Fiber optic  is_No  prob_retain  prob_churn  \\\n",
       "0                      0.0             1.0    0.0     0.253254    0.746746   \n",
       "1                      1.0             1.0    0.0     0.186281    0.813719   \n",
       "2                      1.0             1.0    0.0     0.186281    0.813719   \n",
       "3                      0.0             0.0    0.0     0.761589    0.238411   \n",
       "4                      1.0             1.0    0.0     0.551568    0.448432   \n",
       "...                    ...             ...    ...          ...         ...   \n",
       "8277                   0.0             0.0    1.0     0.603424    0.396576   \n",
       "8278                   1.0             1.0    0.0     0.207590    0.792410   \n",
       "8279                   1.0             1.0    0.0     0.178404    0.821596   \n",
       "8280                   1.0             1.0    0.0     0.135582    0.864418   \n",
       "8281                   1.0             1.0    0.0     0.159120    0.840880   \n",
       "\n",
       "      y_pred  \n",
       "0          1  \n",
       "1          1  \n",
       "2          1  \n",
       "3          0  \n",
       "4          0  \n",
       "...      ...  \n",
       "8277       0  \n",
       "8278       1  \n",
       "8279       1  \n",
       "8280       1  \n",
       "8281       1  \n",
       "\n",
       "[8282 rows x 14 columns]"
      ]
     },
     "execution_count": 280,
     "metadata": {},
     "output_type": "execute_result"
    }
   ],
   "source": [
    "X_train_smote"
   ]
  },
  {
   "cell_type": "markdown",
   "metadata": {},
   "source": [
    "## 500 Most likely to churn"
   ]
  },
  {
   "cell_type": "code",
   "execution_count": 317,
   "metadata": {
    "tags": []
   },
   "outputs": [],
   "source": [
    "X_fe = feature_engineering(X)\n",
    "X_sel = selection.transform(X_fe)\n",
    "X_sel = pd.DataFrame(X_sel, columns=feature_name)\n",
    "\n",
    "X_sel = X_sel.set_index(y.index)"
   ]
  },
  {
   "cell_type": "code",
   "execution_count": 319,
   "metadata": {
    "tags": []
   },
   "outputs": [],
   "source": [
    "X_sel[['prob_retain','prob_churn']] = best_accuracy.predict_proba(X_sel)\n",
    "X_sel['Churn Value'] = y\n",
    "X_sel.reset_index(inplace = True)"
   ]
  },
  {
   "cell_type": "code",
   "execution_count": 323,
   "metadata": {
    "tags": []
   },
   "outputs": [],
   "source": [
    "risk_500 = X_sel[X_sel['Churn Value'] == 0][['CustomerID','prob_churn']]\\\n",
    "    .sort_values(by = 'prob_churn',\n",
    "                 ascending = False)[:500]"
   ]
  },
  {
   "cell_type": "code",
   "execution_count": 370,
   "metadata": {
    "tags": []
   },
   "outputs": [],
   "source": [
    "risk_500.to_csv(\"Logistic_500.csv\", index=False)"
   ]
  },
  {
   "cell_type": "markdown",
   "metadata": {},
   "source": [
    "### Compare with decision tree list"
   ]
  },
  {
   "cell_type": "code",
   "execution_count": 327,
   "metadata": {
    "tags": []
   },
   "outputs": [],
   "source": [
    "lst_500 = list(risk_500['CustomerID'])"
   ]
  },
  {
   "cell_type": "code",
   "execution_count": 335,
   "metadata": {
    "tags": []
   },
   "outputs": [],
   "source": [
    "f = open(\"500_most.txt\", \"r\")\n",
    "matthew_lst = f.read()\n",
    "\n",
    "matthew_lst = ast.literal_eval(matthew_lst)"
   ]
  },
  {
   "cell_type": "code",
   "execution_count": 338,
   "metadata": {
    "tags": []
   },
   "outputs": [
    {
     "data": {
      "text/plain": [
       "349"
      ]
     },
     "execution_count": 338,
     "metadata": {},
     "output_type": "execute_result"
    }
   ],
   "source": [
    "len(set(lst_500).intersection(set(matthew_lst)))"
   ]
  },
  {
   "cell_type": "markdown",
   "metadata": {},
   "source": [
    "## Churn risk"
   ]
  },
  {
   "cell_type": "code",
   "execution_count": 357,
   "metadata": {
    "tags": []
   },
   "outputs": [],
   "source": [
    "churn_risk = X_sel[X_sel['Churn Value'] == 0][['CustomerID','prob_churn']]\\\n",
    "    .sort_values(by = 'prob_churn',\n",
    "                 ascending = False)"
   ]
  },
  {
   "cell_type": "code",
   "execution_count": 366,
   "metadata": {
    "tags": []
   },
   "outputs": [],
   "source": [
    "churn_risk.to_csv(\"Churn Risk.csv\", index=False)"
   ]
  },
  {
   "cell_type": "code",
   "execution_count": 1077,
   "metadata": {
    "tags": []
   },
   "outputs": [],
   "source": [
    "# Define the SMOTE model\n",
    "smote = SMOTE()\n",
    "\n",
    "# Apply SMOTE to the training data\n",
    "X_train_smote, y_train_smote = smote.fit_resample(X_train_fe, y_train)"
   ]
  },
  {
   "cell_type": "code",
   "execution_count": 1079,
   "metadata": {
    "tags": []
   },
   "outputs": [],
   "source": [
    "logreg = sm.Logit(y_train_smote, X_train_smote)"
   ]
  },
  {
   "cell_type": "code",
   "execution_count": 1081,
   "metadata": {
    "tags": []
   },
   "outputs": [
    {
     "name": "stdout",
     "output_type": "stream",
     "text": [
      "Optimization terminated successfully.\n",
      "         Current function value: 0.338731\n",
      "         Iterations 8\n"
     ]
    }
   ],
   "source": [
    "results = logreg.fit()"
   ]
  },
  {
   "cell_type": "code",
   "execution_count": 1083,
   "metadata": {
    "tags": []
   },
   "outputs": [
    {
     "data": {
      "text/html": [
       "<table class=\"simpletable\">\n",
       "<caption>Logit Regression Results</caption>\n",
       "<tr>\n",
       "  <th>Dep. Variable:</th>      <td>Churn Value</td>   <th>  No. Observations:  </th>  <td>  8282</td> \n",
       "</tr>\n",
       "<tr>\n",
       "  <th>Model:</th>                 <td>Logit</td>      <th>  Df Residuals:      </th>  <td>  8260</td> \n",
       "</tr>\n",
       "<tr>\n",
       "  <th>Method:</th>                 <td>MLE</td>       <th>  Df Model:          </th>  <td>    21</td> \n",
       "</tr>\n",
       "<tr>\n",
       "  <th>Date:</th>            <td>Wed, 05 Jun 2024</td> <th>  Pseudo R-squ.:     </th>  <td>0.5113</td> \n",
       "</tr>\n",
       "<tr>\n",
       "  <th>Time:</th>                <td>11:19:19</td>     <th>  Log-Likelihood:    </th> <td> -2805.4</td>\n",
       "</tr>\n",
       "<tr>\n",
       "  <th>converged:</th>             <td>True</td>       <th>  LL-Null:           </th> <td> -5740.6</td>\n",
       "</tr>\n",
       "<tr>\n",
       "  <th>Covariance Type:</th>     <td>nonrobust</td>    <th>  LLR p-value:       </th>  <td> 0.000</td> \n",
       "</tr>\n",
       "</table>\n",
       "<table class=\"simpletable\">\n",
       "<tr>\n",
       "               <td></td>                  <th>coef</th>     <th>std err</th>      <th>z</th>      <th>P>|z|</th>  <th>[0.025</th>    <th>0.975]</th>  \n",
       "</tr>\n",
       "<tr>\n",
       "  <th>Latitude</th>                    <td>    0.0635</td> <td>    0.018</td> <td>    3.485</td> <td> 0.000</td> <td>    0.028</td> <td>    0.099</td>\n",
       "</tr>\n",
       "<tr>\n",
       "  <th>Longitude</th>                   <td>    0.0659</td> <td>    0.008</td> <td>    8.623</td> <td> 0.000</td> <td>    0.051</td> <td>    0.081</td>\n",
       "</tr>\n",
       "<tr>\n",
       "  <th>Gender</th>                      <td>   -0.2772</td> <td>    0.068</td> <td>   -4.090</td> <td> 0.000</td> <td>   -0.410</td> <td>   -0.144</td>\n",
       "</tr>\n",
       "<tr>\n",
       "  <th>Senior Citizen</th>              <td>   -0.1950</td> <td>    0.090</td> <td>   -2.159</td> <td> 0.031</td> <td>   -0.372</td> <td>   -0.018</td>\n",
       "</tr>\n",
       "<tr>\n",
       "  <th>Dependents</th>                  <td>   -1.8723</td> <td>    0.123</td> <td>  -15.221</td> <td> 0.000</td> <td>   -2.113</td> <td>   -1.631</td>\n",
       "</tr>\n",
       "<tr>\n",
       "  <th>Tenure Months</th>               <td>   -0.0933</td> <td>    0.006</td> <td>  -14.778</td> <td> 0.000</td> <td>   -0.106</td> <td>   -0.081</td>\n",
       "</tr>\n",
       "<tr>\n",
       "  <th>Phone Service</th>               <td>   -7.6740</td> <td>    0.409</td> <td>  -18.777</td> <td> 0.000</td> <td>   -8.475</td> <td>   -6.873</td>\n",
       "</tr>\n",
       "<tr>\n",
       "  <th>Multiple Lines</th>              <td>   -1.6322</td> <td>    0.123</td> <td>  -13.235</td> <td> 0.000</td> <td>   -1.874</td> <td>   -1.390</td>\n",
       "</tr>\n",
       "<tr>\n",
       "  <th>Online Security</th>             <td>   -2.4161</td> <td>    0.127</td> <td>  -18.971</td> <td> 0.000</td> <td>   -2.666</td> <td>   -2.167</td>\n",
       "</tr>\n",
       "<tr>\n",
       "  <th>Online Backup</th>               <td>   -2.0501</td> <td>    0.121</td> <td>  -16.876</td> <td> 0.000</td> <td>   -2.288</td> <td>   -1.812</td>\n",
       "</tr>\n",
       "<tr>\n",
       "  <th>Device Protection</th>           <td>   -1.9247</td> <td>    0.124</td> <td>  -15.474</td> <td> 0.000</td> <td>   -2.169</td> <td>   -1.681</td>\n",
       "</tr>\n",
       "<tr>\n",
       "  <th>Tech Support</th>                <td>   -2.4389</td> <td>    0.132</td> <td>  -18.505</td> <td> 0.000</td> <td>   -2.697</td> <td>   -2.181</td>\n",
       "</tr>\n",
       "<tr>\n",
       "  <th>Streaming TV</th>                <td>   -3.3047</td> <td>    0.205</td> <td>  -16.099</td> <td> 0.000</td> <td>   -3.707</td> <td>   -2.902</td>\n",
       "</tr>\n",
       "<tr>\n",
       "  <th>Streaming Movies</th>            <td>   -3.2169</td> <td>    0.205</td> <td>  -15.712</td> <td> 0.000</td> <td>   -3.618</td> <td>   -2.816</td>\n",
       "</tr>\n",
       "<tr>\n",
       "  <th>Contract</th>                    <td>   -0.7737</td> <td>    0.085</td> <td>   -9.049</td> <td> 0.000</td> <td>   -0.941</td> <td>   -0.606</td>\n",
       "</tr>\n",
       "<tr>\n",
       "  <th>Monthly Charges</th>             <td>    0.3352</td> <td>    0.019</td> <td>   17.822</td> <td> 0.000</td> <td>    0.298</td> <td>    0.372</td>\n",
       "</tr>\n",
       "<tr>\n",
       "  <th>Total Charges</th>               <td>    0.0008</td> <td> 7.12e-05</td> <td>   10.539</td> <td> 0.000</td> <td>    0.001</td> <td>    0.001</td>\n",
       "</tr>\n",
       "<tr>\n",
       "  <th>pay_Credit card (automatic)</th> <td>   -1.0831</td> <td>    0.116</td> <td>   -9.306</td> <td> 0.000</td> <td>   -1.311</td> <td>   -0.855</td>\n",
       "</tr>\n",
       "<tr>\n",
       "  <th>pay_Electronic check</th>        <td>   -0.4879</td> <td>    0.089</td> <td>   -5.467</td> <td> 0.000</td> <td>   -0.663</td> <td>   -0.313</td>\n",
       "</tr>\n",
       "<tr>\n",
       "  <th>pay_Mailed check</th>            <td>   -0.9718</td> <td>    0.110</td> <td>   -8.855</td> <td> 0.000</td> <td>   -1.187</td> <td>   -0.757</td>\n",
       "</tr>\n",
       "<tr>\n",
       "  <th>is_Fiber optic</th>              <td>   -7.8575</td> <td>    0.477</td> <td>  -16.459</td> <td> 0.000</td> <td>   -8.793</td> <td>   -6.922</td>\n",
       "</tr>\n",
       "<tr>\n",
       "  <th>is_No</th>                       <td>    7.5116</td> <td>    0.499</td> <td>   15.066</td> <td> 0.000</td> <td>    6.534</td> <td>    8.489</td>\n",
       "</tr>\n",
       "</table>"
      ],
      "text/latex": [
       "\\begin{center}\n",
       "\\begin{tabular}{lclc}\n",
       "\\toprule\n",
       "\\textbf{Dep. Variable:}               &   Churn Value    & \\textbf{  No. Observations:  } &     8282    \\\\\n",
       "\\textbf{Model:}                       &      Logit       & \\textbf{  Df Residuals:      } &     8260    \\\\\n",
       "\\textbf{Method:}                      &       MLE        & \\textbf{  Df Model:          } &       21    \\\\\n",
       "\\textbf{Date:}                        & Wed, 05 Jun 2024 & \\textbf{  Pseudo R-squ.:     } &   0.5113    \\\\\n",
       "\\textbf{Time:}                        &     11:19:19     & \\textbf{  Log-Likelihood:    } &   -2805.4   \\\\\n",
       "\\textbf{converged:}                   &       True       & \\textbf{  LL-Null:           } &   -5740.6   \\\\\n",
       "\\textbf{Covariance Type:}             &    nonrobust     & \\textbf{  LLR p-value:       } &    0.000    \\\\\n",
       "\\bottomrule\n",
       "\\end{tabular}\n",
       "\\begin{tabular}{lcccccc}\n",
       "                                      & \\textbf{coef} & \\textbf{std err} & \\textbf{z} & \\textbf{P$> |$z$|$} & \\textbf{[0.025} & \\textbf{0.975]}  \\\\\n",
       "\\midrule\n",
       "\\textbf{Latitude}                     &       0.0635  &        0.018     &     3.485  &         0.000        &        0.028    &        0.099     \\\\\n",
       "\\textbf{Longitude}                    &       0.0659  &        0.008     &     8.623  &         0.000        &        0.051    &        0.081     \\\\\n",
       "\\textbf{Gender}                       &      -0.2772  &        0.068     &    -4.090  &         0.000        &       -0.410    &       -0.144     \\\\\n",
       "\\textbf{Senior Citizen}               &      -0.1950  &        0.090     &    -2.159  &         0.031        &       -0.372    &       -0.018     \\\\\n",
       "\\textbf{Dependents}                   &      -1.8723  &        0.123     &   -15.221  &         0.000        &       -2.113    &       -1.631     \\\\\n",
       "\\textbf{Tenure Months}                &      -0.0933  &        0.006     &   -14.778  &         0.000        &       -0.106    &       -0.081     \\\\\n",
       "\\textbf{Phone Service}                &      -7.6740  &        0.409     &   -18.777  &         0.000        &       -8.475    &       -6.873     \\\\\n",
       "\\textbf{Multiple Lines}               &      -1.6322  &        0.123     &   -13.235  &         0.000        &       -1.874    &       -1.390     \\\\\n",
       "\\textbf{Online Security}              &      -2.4161  &        0.127     &   -18.971  &         0.000        &       -2.666    &       -2.167     \\\\\n",
       "\\textbf{Online Backup}                &      -2.0501  &        0.121     &   -16.876  &         0.000        &       -2.288    &       -1.812     \\\\\n",
       "\\textbf{Device Protection}            &      -1.9247  &        0.124     &   -15.474  &         0.000        &       -2.169    &       -1.681     \\\\\n",
       "\\textbf{Tech Support}                 &      -2.4389  &        0.132     &   -18.505  &         0.000        &       -2.697    &       -2.181     \\\\\n",
       "\\textbf{Streaming TV}                 &      -3.3047  &        0.205     &   -16.099  &         0.000        &       -3.707    &       -2.902     \\\\\n",
       "\\textbf{Streaming Movies}             &      -3.2169  &        0.205     &   -15.712  &         0.000        &       -3.618    &       -2.816     \\\\\n",
       "\\textbf{Contract}                     &      -0.7737  &        0.085     &    -9.049  &         0.000        &       -0.941    &       -0.606     \\\\\n",
       "\\textbf{Monthly Charges}              &       0.3352  &        0.019     &    17.822  &         0.000        &        0.298    &        0.372     \\\\\n",
       "\\textbf{Total Charges}                &       0.0008  &     7.12e-05     &    10.539  &         0.000        &        0.001    &        0.001     \\\\\n",
       "\\textbf{pay\\_Credit card (automatic)} &      -1.0831  &        0.116     &    -9.306  &         0.000        &       -1.311    &       -0.855     \\\\\n",
       "\\textbf{pay\\_Electronic check}        &      -0.4879  &        0.089     &    -5.467  &         0.000        &       -0.663    &       -0.313     \\\\\n",
       "\\textbf{pay\\_Mailed check}            &      -0.9718  &        0.110     &    -8.855  &         0.000        &       -1.187    &       -0.757     \\\\\n",
       "\\textbf{is\\_Fiber optic}              &      -7.8575  &        0.477     &   -16.459  &         0.000        &       -8.793    &       -6.922     \\\\\n",
       "\\textbf{is\\_No}                       &       7.5116  &        0.499     &    15.066  &         0.000        &        6.534    &        8.489     \\\\\n",
       "\\bottomrule\n",
       "\\end{tabular}\n",
       "%\\caption{Logit Regression Results}\n",
       "\\end{center}"
      ],
      "text/plain": [
       "<class 'statsmodels.iolib.summary.Summary'>\n",
       "\"\"\"\n",
       "                           Logit Regression Results                           \n",
       "==============================================================================\n",
       "Dep. Variable:            Churn Value   No. Observations:                 8282\n",
       "Model:                          Logit   Df Residuals:                     8260\n",
       "Method:                           MLE   Df Model:                           21\n",
       "Date:                Wed, 05 Jun 2024   Pseudo R-squ.:                  0.5113\n",
       "Time:                        11:19:19   Log-Likelihood:                -2805.4\n",
       "converged:                       True   LL-Null:                       -5740.6\n",
       "Covariance Type:            nonrobust   LLR p-value:                     0.000\n",
       "===============================================================================================\n",
       "                                  coef    std err          z      P>|z|      [0.025      0.975]\n",
       "-----------------------------------------------------------------------------------------------\n",
       "Latitude                        0.0635      0.018      3.485      0.000       0.028       0.099\n",
       "Longitude                       0.0659      0.008      8.623      0.000       0.051       0.081\n",
       "Gender                         -0.2772      0.068     -4.090      0.000      -0.410      -0.144\n",
       "Senior Citizen                 -0.1950      0.090     -2.159      0.031      -0.372      -0.018\n",
       "Dependents                     -1.8723      0.123    -15.221      0.000      -2.113      -1.631\n",
       "Tenure Months                  -0.0933      0.006    -14.778      0.000      -0.106      -0.081\n",
       "Phone Service                  -7.6740      0.409    -18.777      0.000      -8.475      -6.873\n",
       "Multiple Lines                 -1.6322      0.123    -13.235      0.000      -1.874      -1.390\n",
       "Online Security                -2.4161      0.127    -18.971      0.000      -2.666      -2.167\n",
       "Online Backup                  -2.0501      0.121    -16.876      0.000      -2.288      -1.812\n",
       "Device Protection              -1.9247      0.124    -15.474      0.000      -2.169      -1.681\n",
       "Tech Support                   -2.4389      0.132    -18.505      0.000      -2.697      -2.181\n",
       "Streaming TV                   -3.3047      0.205    -16.099      0.000      -3.707      -2.902\n",
       "Streaming Movies               -3.2169      0.205    -15.712      0.000      -3.618      -2.816\n",
       "Contract                       -0.7737      0.085     -9.049      0.000      -0.941      -0.606\n",
       "Monthly Charges                 0.3352      0.019     17.822      0.000       0.298       0.372\n",
       "Total Charges                   0.0008   7.12e-05     10.539      0.000       0.001       0.001\n",
       "pay_Credit card (automatic)    -1.0831      0.116     -9.306      0.000      -1.311      -0.855\n",
       "pay_Electronic check           -0.4879      0.089     -5.467      0.000      -0.663      -0.313\n",
       "pay_Mailed check               -0.9718      0.110     -8.855      0.000      -1.187      -0.757\n",
       "is_Fiber optic                 -7.8575      0.477    -16.459      0.000      -8.793      -6.922\n",
       "is_No                           7.5116      0.499     15.066      0.000       6.534       8.489\n",
       "===============================================================================================\n",
       "\"\"\""
      ]
     },
     "execution_count": 1083,
     "metadata": {},
     "output_type": "execute_result"
    }
   ],
   "source": [
    "results.summary()"
   ]
  },
  {
   "cell_type": "code",
   "execution_count": 1085,
   "metadata": {
    "tags": []
   },
   "outputs": [],
   "source": [
    "y_pred = results.predict(X_train_smote)"
   ]
  },
  {
   "cell_type": "code",
   "execution_count": 1087,
   "metadata": {
    "tags": []
   },
   "outputs": [],
   "source": [
    "first_results = X_train_smote.copy()"
   ]
  },
  {
   "cell_type": "code",
   "execution_count": 1108,
   "metadata": {
    "tags": []
   },
   "outputs": [],
   "source": [
    "first_results['prob_churn'] = y_pred"
   ]
  },
  {
   "cell_type": "code",
   "execution_count": 1110,
   "metadata": {
    "tags": []
   },
   "outputs": [],
   "source": [
    "def cutoff_change(target, data, n):\n",
    "    data['y_pred'] = np.where(data.prob_churn > n, # Threshold\n",
    "                                   1, # Condition if met\n",
    "                                   0) # Condition if not met\n",
    "    return metrics_func(target, data['y_pred'])"
   ]
  },
  {
   "cell_type": "code",
   "execution_count": 1112,
   "metadata": {
    "tags": []
   },
   "outputs": [
    {
     "name": "stdout",
     "output_type": "stream",
     "text": [
      "accuracy: 83.40980439507365%\n",
      "precision: 82.91696407328098%\n",
      "recall: 84.15841584158416%\n",
      "f1: 83.53307766059443%\n"
     ]
    }
   ],
   "source": [
    "cutoff_change(y_train_smote, first_results, 0.5)"
   ]
  },
  {
   "cell_type": "code",
   "execution_count": 1114,
   "metadata": {
    "tags": []
   },
   "outputs": [],
   "source": [
    "X_test_fe = feature_engineering(X_test)"
   ]
  },
  {
   "cell_type": "code",
   "execution_count": 1116,
   "metadata": {
    "tags": []
   },
   "outputs": [],
   "source": [
    "y_pred_test = results.predict(X_test_fe)"
   ]
  },
  {
   "cell_type": "code",
   "execution_count": 1124,
   "metadata": {
    "tags": []
   },
   "outputs": [],
   "source": [
    "test_results = X_test_fe.copy()\n",
    "\n",
    "test_results['prob_churn'] = y_pred_test"
   ]
  },
  {
   "cell_type": "code",
   "execution_count": 1126,
   "metadata": {
    "tags": []
   },
   "outputs": [
    {
     "name": "stdout",
     "output_type": "stream",
     "text": [
      "accuracy: 78.06955287437899%\n",
      "precision: 57.772621809744784%\n",
      "recall: 66.22340425531915%\n",
      "f1: 61.7100371747212%\n"
     ]
    }
   ],
   "source": [
    "cutoff_change(y_test, test_results, 0.5)"
   ]
  },
  {
   "cell_type": "code",
   "execution_count": 1128,
   "metadata": {
    "tags": []
   },
   "outputs": [
    {
     "data": {
      "text/plain": [
       "array([1, 0])"
      ]
     },
     "execution_count": 1128,
     "metadata": {},
     "output_type": "execute_result"
    }
   ],
   "source": [
    "test_results['y_pred'].unique()"
   ]
  },
  {
   "cell_type": "code",
   "execution_count": null,
   "metadata": {},
   "outputs": [],
   "source": []
  },
  {
   "cell_type": "code",
   "execution_count": 93,
   "metadata": {},
   "outputs": [
    {
     "data": {
      "text/plain": [
       "pandas.core.series.Series"
      ]
     },
     "execution_count": 93,
     "metadata": {},
     "output_type": "execute_result"
    }
   ],
   "source": [
    "type(y)"
   ]
  },
  {
   "cell_type": "code",
   "execution_count": null,
   "metadata": {},
   "outputs": [],
   "source": []
  },
  {
   "cell_type": "code",
   "execution_count": 645,
   "metadata": {
    "tags": []
   },
   "outputs": [],
   "source": [
    "X = df_clean.drop(columns = 'Churn Value').copy()\n",
    "y = df_clean['Churn Value'].copy()"
   ]
  },
  {
   "cell_type": "code",
   "execution_count": 647,
   "metadata": {
    "tags": []
   },
   "outputs": [],
   "source": [
    "X_fe = feature_engineering(X)"
   ]
  },
  {
   "cell_type": "code",
   "execution_count": 649,
   "metadata": {
    "tags": []
   },
   "outputs": [],
   "source": [
    "X_fe[['prob_retain','prob_churn']] = model_selected.predict_proba(X_fe)"
   ]
  },
  {
   "cell_type": "code",
   "execution_count": 651,
   "metadata": {
    "tags": []
   },
   "outputs": [
    {
     "name": "stdout",
     "output_type": "stream",
     "text": [
      "accuracy: 77.42439301434048%\n",
      "precision: 55.691554467564266%\n",
      "recall: 73.03370786516854%\n",
      "f1: 63.19444444444445%\n"
     ]
    }
   ],
   "source": [
    "cutoff_change(y, X_fe, 0.45)"
   ]
  },
  {
   "cell_type": "code",
   "execution_count": 653,
   "metadata": {
    "tags": []
   },
   "outputs": [],
   "source": [
    "X_fe['Churn Value'] = y"
   ]
  },
  {
   "cell_type": "code",
   "execution_count": 655,
   "metadata": {
    "tags": []
   },
   "outputs": [],
   "source": [
    "X_fe.reset_index(inplace = True)"
   ]
  },
  {
   "cell_type": "code",
   "execution_count": 657,
   "metadata": {
    "tags": []
   },
   "outputs": [],
   "source": [
    "risk_500 = X_fe[X_fe['Churn Value'] == 0][['CustomerID','prob_churn']][:500]\\\n",
    "    .sort_values(by = 'prob_churn',\n",
    "                 ascending = False)"
   ]
  },
  {
   "cell_type": "code",
   "execution_count": 659,
   "metadata": {
    "tags": []
   },
   "outputs": [],
   "source": [
    "lst_500 = list(risk_500.CustomerID)"
   ]
  },
  {
   "cell_type": "code",
   "execution_count": 661,
   "metadata": {
    "tags": []
   },
   "outputs": [],
   "source": [
    "f = open(\"500_most.txt\", \"r\")\n",
    "matthew_lst = f.read()"
   ]
  },
  {
   "cell_type": "code",
   "execution_count": 663,
   "metadata": {
    "tags": []
   },
   "outputs": [],
   "source": [
    "import ast\n",
    "matthew_lst = ast.literal_eval(matthew_lst)"
   ]
  },
  {
   "cell_type": "code",
   "execution_count": 665,
   "metadata": {
    "tags": []
   },
   "outputs": [
    {
     "data": {
      "text/plain": [
       "48"
      ]
     },
     "execution_count": 665,
     "metadata": {},
     "output_type": "execute_result"
    }
   ],
   "source": [
    "len(set(lst_500).intersection(set(matthew_lst)))"
   ]
  },
  {
   "cell_type": "code",
   "execution_count": 435,
   "metadata": {
    "tags": []
   },
   "outputs": [
    {
     "data": {
      "text/plain": [
       "['5542-TBBWB',\n",
       " '7577-SWIFR',\n",
       " '5043-TRZWM',\n",
       " '9603-OAIHC',\n",
       " '7439-DKZTW',\n",
       " '3318-NMQXL',\n",
       " '1452-VOQCH',\n",
       " '8622-ZLFKO',\n",
       " '4912-PIGUY',\n",
       " '7465-ZZRVX',\n",
       " '8161-QYMTT',\n",
       " '6630-UJZMY',\n",
       " '2545-EBUPK',\n",
       " '3878-AVSOQ',\n",
       " '5150-ITWWB',\n",
       " '4234-XTNEA',\n",
       " '2789-HQBOU',\n",
       " '6357-JJPQT',\n",
       " '2262-SLNVK',\n",
       " '3841-CONLJ',\n",
       " '4132-KALRO',\n",
       " '8714-CTZJW',\n",
       " '8739-XNIKG',\n",
       " '2215-ZAFGX',\n",
       " '8266-VBFQL',\n",
       " '8087-LGYHQ',\n",
       " '6856-RAURS',\n",
       " '3462-BJQQA',\n",
       " '4749-OJKQU',\n",
       " '4090-KPJIP',\n",
       " '9605-WGJVW',\n",
       " '8035-PWSEV',\n",
       " '8040-MNRTF',\n",
       " '7994-UYIVZ',\n",
       " '9840-EFJQB',\n",
       " '1640-PLFMP',\n",
       " '1197-BVMVG',\n",
       " '4633-MKHYU',\n",
       " '9094-AZPHK',\n",
       " '1628-BIZYP',\n",
       " '3320-VEOYC',\n",
       " '5935-FCCNB',\n",
       " '3411-WLRSQ',\n",
       " '0722-SVSFK',\n",
       " '2038-OEQZH',\n",
       " '7225-CBZPL',\n",
       " '9919-KNPOO',\n",
       " '5348-CAGXB',\n",
       " '3096-GKWEB',\n",
       " '4927-WWOOZ',\n",
       " '0021-IKXGC',\n",
       " '6969-MVBAI',\n",
       " '3452-GWUIN',\n",
       " '2371-JQHZZ',\n",
       " '9957-YODKZ',\n",
       " '5429-LWCMV',\n",
       " '7668-XCFYV',\n",
       " '0644-OQMDK',\n",
       " '7858-GTZSP',\n",
       " '1173-XZPYF',\n",
       " '0187-QSXOE',\n",
       " '6496-JDSSB',\n",
       " '3422-GALYP',\n",
       " '5032-MIYKT',\n",
       " '2081-VEYEH',\n",
       " '9360-OMDZZ',\n",
       " '6435-SRWBJ',\n",
       " '4395-PZMSN',\n",
       " '3427-GGZZI',\n",
       " '5382-SOYZL',\n",
       " '7363-QTBIW',\n",
       " '2876-GZYZC',\n",
       " '3489-HHPFY',\n",
       " '4847-TAJYI',\n",
       " '9741-YLNTD',\n",
       " '7402-EYFXX',\n",
       " '3370-HXOPH',\n",
       " '9633-XQABV',\n",
       " '0168-XZKBB',\n",
       " '8875-AKBYH',\n",
       " '0365-BZUWY',\n",
       " '4559-UWIHT',\n",
       " '6350-XFYGW',\n",
       " '2985-FMWYF',\n",
       " '6077-BDPXA',\n",
       " '4115-NZRKS',\n",
       " '7245-NIIWQ',\n",
       " '7392-YYPYJ',\n",
       " '1960-UYCNN',\n",
       " '5628-FCGYG',\n",
       " '4060-LDNLU',\n",
       " '5995-SNNEW',\n",
       " '9717-QEBGU',\n",
       " '2688-BHGOG',\n",
       " '8313-NDOIA',\n",
       " '5216-WASFJ',\n",
       " '7044-YAACC',\n",
       " '1200-TUZHR',\n",
       " '2897-DOVND',\n",
       " '6986-IXNDM',\n",
       " '4445-ZJNMU',\n",
       " '5956-YHHRX',\n",
       " '5928-QLDHB',\n",
       " '6851-WEFYX',\n",
       " '7354-OIJLX',\n",
       " '5117-IFGPS',\n",
       " '5442-BHQNG',\n",
       " '4195-NZGTA',\n",
       " '6215-NQCPY',\n",
       " '4770-UEZOX',\n",
       " '8242-SOQUO',\n",
       " '0480-BIXDE',\n",
       " '0396-YCHWO',\n",
       " '4884-ZTHVF',\n",
       " '7823-JSOAG',\n",
       " '0840-DFEZH',\n",
       " '1751-NCDLI',\n",
       " '6229-LSCKB',\n",
       " '7278-CKDNC',\n",
       " '9617-INGJY',\n",
       " '2077-MPJQO',\n",
       " '1219-NNDDO',\n",
       " '9334-GWGOW',\n",
       " '4482-EWFMI',\n",
       " '5399-ZIMKF',\n",
       " '3030-YDNRM',\n",
       " '6267-DCFFZ',\n",
       " '8309-IEYJD',\n",
       " '1766-GKNMI',\n",
       " '3295-YVUSR',\n",
       " '9402-ORRAH',\n",
       " '6198-ZFIOJ',\n",
       " '3365-SAIGS',\n",
       " '8107-KNCIM',\n",
       " '5226-NOZFC',\n",
       " '6198-RTPMF',\n",
       " '6116-RFVHN',\n",
       " '6918-UMQCG',\n",
       " '1508-DFXCU',\n",
       " '5022-KVDQT',\n",
       " '8356-WUAOJ',\n",
       " '2665-NPTGL',\n",
       " '8873-GLDMH',\n",
       " '2123-AGEEN',\n",
       " '4059-IIEBK',\n",
       " '6583-KQJLK',\n",
       " '3951-NJCVI',\n",
       " '4536-PLEQY',\n",
       " '9290-SHCMB',\n",
       " '3199-XGZCY',\n",
       " '5989-PGKJB',\n",
       " '9208-OLGAQ',\n",
       " '8709-KRDVL',\n",
       " '5133-POWUA',\n",
       " '3496-LFSZU',\n",
       " '8132-YPVBX',\n",
       " '7321-VGNKU',\n",
       " '4298-OYIFC',\n",
       " '0848-ZGQIJ',\n",
       " '6860-YRJZP',\n",
       " '7398-SKNQZ',\n",
       " '9885-AIBVB',\n",
       " '9822-OAOVB',\n",
       " '3338-CVVEH',\n",
       " '2674-MIAHT',\n",
       " '5652-MSDEY',\n",
       " '4301-VVZKA',\n",
       " '6103-BOCOU',\n",
       " '0434-CSFON',\n",
       " '0420-HLGXF',\n",
       " '3566-HJGPK',\n",
       " '0432-CAJZV',\n",
       " '4521-YEEHE',\n",
       " '3384-CTMSF',\n",
       " '4813-HQMGZ',\n",
       " '2275-RBYQS',\n",
       " '2984-AFWNC',\n",
       " '7517-LDMPS',\n",
       " '8325-QRPZR',\n",
       " '5233-AOZUF',\n",
       " '0410-IPFTY',\n",
       " '4815-GBTCD',\n",
       " '1475-VWVDO',\n",
       " '5650-YLIBA',\n",
       " '7394-LWLYN',\n",
       " '2254-DLXRI',\n",
       " '1666-JXLKU',\n",
       " '1307-ATKGB',\n",
       " '3748-FVMZZ',\n",
       " '9696-RMYBA',\n",
       " '2959-FENLU',\n",
       " '7586-ZATGZ',\n",
       " '0224-RLWWD',\n",
       " '5692-ICXLW',\n",
       " '6507-ZJSUR',\n",
       " '0928-XUTSN',\n",
       " '2107-FBPTK',\n",
       " '1393-IMKZG',\n",
       " '2800-VEQXM',\n",
       " '2439-LYPMQ',\n",
       " '8819-IMISP',\n",
       " '2905-KFQUV',\n",
       " '8486-AYEQH',\n",
       " '4183-MYFRB',\n",
       " '4612-SSVHJ',\n",
       " '5365-LLFYV',\n",
       " '8695-ARGXZ',\n",
       " '4706-DGAHW',\n",
       " '8775-ERLNB',\n",
       " '2809-ZMYOQ',\n",
       " '5119-KEPFY',\n",
       " '9944-AEXBM',\n",
       " '0674-DGMAQ',\n",
       " '8270-RKSAP',\n",
       " '6519-CFDBX',\n",
       " '6407-UTSLV',\n",
       " '4983-CCWMC',\n",
       " '9799-CAYJJ',\n",
       " '6212-ATMLK',\n",
       " '6705-LXORM',\n",
       " '5405-ZMYXQ',\n",
       " '5019-GQVCR',\n",
       " '4223-WOZCM',\n",
       " '3278-FSIXX',\n",
       " '2831-EBWRN',\n",
       " '5968-VXZLG',\n",
       " '3629-ZNKXA',\n",
       " '2523-EWWZL',\n",
       " '7714-YXSMB',\n",
       " '2799-ARNLO',\n",
       " '2325-NBPZG',\n",
       " '4450-DLLMH',\n",
       " '5666-CYCYZ',\n",
       " '3481-JHUZH',\n",
       " '2504-DSHIH',\n",
       " '1932-UEDCX',\n",
       " '3597-MVHJT',\n",
       " '5630-IXDXV',\n",
       " '5501-TVMGM',\n",
       " '7952-OBOYL',\n",
       " '3420-YJLQT',\n",
       " '0196-JTUQI',\n",
       " '4062-HBMOS',\n",
       " '7901-TBKJX',\n",
       " '4373-VVHQL',\n",
       " '8541-QVFKM',\n",
       " '7206-PQBBZ',\n",
       " '4690-PKDQG',\n",
       " '6127-IYJOZ',\n",
       " '2369-FEVNO',\n",
       " '2135-DQWAQ',\n",
       " '6559-PDZLR',\n",
       " '2080-CAZNM',\n",
       " '8710-YGLWG',\n",
       " '8705-WZCYL',\n",
       " '0447-RXSGD',\n",
       " '8950-MTZNV',\n",
       " '4661-NJEUX',\n",
       " '4029-HPFVY',\n",
       " '9588-OZDMQ',\n",
       " '5879-SESNB',\n",
       " '5857-TYBCJ',\n",
       " '2465-BLLEU',\n",
       " '3317-VLGQT',\n",
       " '3714-NTNFO',\n",
       " '5599-HVLTW',\n",
       " '2637-FKFSY',\n",
       " '9050-IKDZA',\n",
       " '9058-MJLZC',\n",
       " '7422-WNBTY',\n",
       " '0674-EYYZV',\n",
       " '7590-VHVEG',\n",
       " '2603-HVKCG',\n",
       " '3002-WQZWT',\n",
       " '3588-WSTTJ',\n",
       " '2880-FPNAE',\n",
       " '9053-EJUNL',\n",
       " '4854-CIDCF',\n",
       " '7801-KICAO',\n",
       " '9752-ZNQUT',\n",
       " '0585-EGDDA',\n",
       " '1478-VPOAD',\n",
       " '3703-KBKZP',\n",
       " '2960-NKRSO',\n",
       " '3717-OEAUQ',\n",
       " '9494-MRNYX',\n",
       " '1469-LBJQJ',\n",
       " '1016-DJTSV',\n",
       " '3420-ZDBMA',\n",
       " '5288-AHOUP',\n",
       " '2974-GGUXS',\n",
       " '5605-IYGFG',\n",
       " '6185-TASNN',\n",
       " '2103-ZRXFN',\n",
       " '3916-NRPAP',\n",
       " '0141-YEAYS',\n",
       " '5937-EORGB',\n",
       " '2187-PKZAY',\n",
       " '0225-ZORZP',\n",
       " '8785-CJSHH',\n",
       " '3003-CMDUU',\n",
       " '9279-CJEOJ',\n",
       " '5906-BFOZT',\n",
       " '6339-YPSAH',\n",
       " '8818-DOPVL',\n",
       " '0082-OQIQY',\n",
       " '1226-IENZN',\n",
       " '8012-SOUDQ',\n",
       " '9093-FPDLG',\n",
       " '5453-AXEPF',\n",
       " '5899-OUVKV',\n",
       " '7426-RHZGU',\n",
       " '3413-BMNZE',\n",
       " '1942-OQFRW',\n",
       " '3312-UUMZW',\n",
       " '9274-UARKJ',\n",
       " '4537-DKTAL',\n",
       " '3956-MGXOG',\n",
       " '1845-ZLLIG',\n",
       " '7537-RBWEA',\n",
       " '8648-PFRMP',\n",
       " '9506-UXUSK',\n",
       " '4948-WBBKL',\n",
       " '9631-XEYKE',\n",
       " '2675-DHUTR',\n",
       " '0439-IFYUN',\n",
       " '7365-BVCJH',\n",
       " '4291-SHSBH',\n",
       " '4566-NECEV',\n",
       " '8720-RQSBJ',\n",
       " '9167-APMXZ',\n",
       " '5119-NZPTV',\n",
       " '4553-DVPZG',\n",
       " '9992-UJOEL',\n",
       " '1730-ZMAME',\n",
       " '4480-QQRHC',\n",
       " '0082-LDZUE',\n",
       " '9348-YVOMK',\n",
       " '1754-GKYPY',\n",
       " '2080-GKCWQ',\n",
       " '0491-KAPQG',\n",
       " '6833-JMZYP',\n",
       " '9244-ZVAPM',\n",
       " '1818-ESQMW',\n",
       " '0682-USIXD',\n",
       " '0018-NYROU',\n",
       " '7442-YGZFK',\n",
       " '9214-EKVXR',\n",
       " '3518-PZXZQ',\n",
       " '7145-FEJWU',\n",
       " '2754-SDJRD',\n",
       " '0958-YHXGP',\n",
       " '7978-DKUQH',\n",
       " '4647-MUZON',\n",
       " '0921-OHLVP',\n",
       " '8617-ENBDS',\n",
       " '6242-MBHPK',\n",
       " '5760-FXFVO',\n",
       " '2277-VWCNI',\n",
       " '9398-MMQTO',\n",
       " '0374-IOEGQ',\n",
       " '3966-HRMZA',\n",
       " '0315-LVCRK',\n",
       " '5960-MVTUK',\n",
       " '7852-LECYP',\n",
       " '3223-DWFIO',\n",
       " '0581-BXBUB',\n",
       " '1302-UHBDD',\n",
       " '0620-DLSLK',\n",
       " '6817-WTYHE',\n",
       " '9819-FBNSV',\n",
       " '1728-BQDMA',\n",
       " '4367-NHWMM',\n",
       " '9355-NPPFS',\n",
       " '7233-DRTRF',\n",
       " '8903-WMRNW',\n",
       " '2507-QZPQS',\n",
       " '9773-PEQBZ',\n",
       " '1635-FJFCC',\n",
       " '3737-XBQDD',\n",
       " '0650-BWOZN',\n",
       " '9576-SYUHJ',\n",
       " '3453-RTHJQ',\n",
       " '4236-UJPWO',\n",
       " '8687-BAFGU',\n",
       " '9121-PHQSR',\n",
       " '2604-IJPDU',\n",
       " '6734-GMPVK',\n",
       " '8490-BXHEO',\n",
       " '5035-BVCXS',\n",
       " '7315-WYOAW',\n",
       " '7754-IXRMC',\n",
       " '6582-OIVSP',\n",
       " '2235-DWLJU',\n",
       " '7176-WIONM',\n",
       " '3050-GBUSH',\n",
       " '3798-EPWRR',\n",
       " '5044-LRQAQ',\n",
       " '8584-KMVXD',\n",
       " '5271-DBYSJ',\n",
       " '4546-FOKWR',\n",
       " '0093-EXYQL',\n",
       " '4061-UKJWL',\n",
       " '9796-BPKIW',\n",
       " '1482-OXZSY',\n",
       " '1028-FFNJK',\n",
       " '8224-DWCKX',\n",
       " '5701-YVSVF',\n",
       " '9133-AYJZG',\n",
       " '3088-LHEFH',\n",
       " '0623-GDISB',\n",
       " '7252-NTGSS',\n",
       " '5091-HFAZW',\n",
       " '0428-IKYCP',\n",
       " '4465-VDKIQ',\n",
       " '9365-SRSZE',\n",
       " '0928-JMXNP',\n",
       " '6377-WHAOX',\n",
       " '3961-SXAXY',\n",
       " '6650-VJONK',\n",
       " '2739-CACDQ',\n",
       " '7562-UXTPG',\n",
       " '7794-JASDG',\n",
       " '6888-SBYAI',\n",
       " '9432-VOFYX',\n",
       " '1685-BQULA',\n",
       " '0988-JRWWP',\n",
       " '5439-WIKXB',\n",
       " '2800-QQUSO',\n",
       " '0258-NOKBL',\n",
       " '9743-DQKQW',\n",
       " '6259-WJQLC',\n",
       " '6175-IRFIT',\n",
       " '9903-LYSAB',\n",
       " '1536-HBSWP',\n",
       " '7048-GXDAY',\n",
       " '2740-TVLFN',\n",
       " '0670-KDOMA',\n",
       " '6522-YRBXD',\n",
       " '6260-ONULR',\n",
       " '7901-HXJVA',\n",
       " '4137-BTIKL',\n",
       " '8660-BUETV',\n",
       " '9529-OFXHY',\n",
       " '0376-OIWME',\n",
       " '4123-DVHPH',\n",
       " '8104-OSKWT',\n",
       " '4299-SIMNS',\n",
       " '1769-GRUIK',\n",
       " '4727-MCYZG',\n",
       " '3130-ICDUP',\n",
       " '5626-MGTUK',\n",
       " '4853-OITSN',\n",
       " '8563-OYMQY',\n",
       " '2203-GHNWN',\n",
       " '6362-QHAFM',\n",
       " '8180-AKMJV',\n",
       " '4686-UXDML',\n",
       " '5122-CYFXA',\n",
       " '3569-EDBPQ',\n",
       " '0570-BFQHT',\n",
       " '9699-UBQFS',\n",
       " '3914-FDRHP',\n",
       " '7967-HYCDE',\n",
       " '0147-ESWWR',\n",
       " '3352-ALMCK',\n",
       " '1622-HSHSF',\n",
       " '1746-TGTWV',\n",
       " '1580-BMCMR',\n",
       " '6844-DZKRF',\n",
       " '1013-QCWAM',\n",
       " '0793-TWELN',\n",
       " '7339-POGZN',\n",
       " '7243-LCGGZ',\n",
       " '5647-FXOTP',\n",
       " '8566-YPRGL',\n",
       " '5649-RXQTV',\n",
       " '5016-IBERQ',\n",
       " '3577-AMVUX',\n",
       " '8778-LMWTJ',\n",
       " '4741-WWJQZ',\n",
       " '0899-LIIBW',\n",
       " '2378-VTKDH',\n",
       " '3904-UKFRE',\n",
       " '5916-QEWPT',\n",
       " '4360-PNRQB',\n",
       " '1658-TJVOA',\n",
       " '3446-QDSZF',\n",
       " '0817-HSUSE',\n",
       " '9508-ILZDG',\n",
       " '7460-ITWWP',\n",
       " '6719-OXYBR',\n",
       " '4929-XIHVW',\n",
       " '5153-RTHKF',\n",
       " '9450-TRJUU',\n",
       " '1608-GMEWB',\n",
       " '1307-TVUFB',\n",
       " '1251-STYSZ',\n",
       " '0248-IPDFW',\n",
       " '6907-FLBER']"
      ]
     },
     "execution_count": 435,
     "metadata": {},
     "output_type": "execute_result"
    }
   ],
   "source": [
    "matthew_lst"
   ]
  },
  {
   "cell_type": "code",
   "execution_count": 433,
   "metadata": {
    "tags": []
   },
   "outputs": [
    {
     "data": {
      "text/html": [
       "<div>\n",
       "<style scoped>\n",
       "    .dataframe tbody tr th:only-of-type {\n",
       "        vertical-align: middle;\n",
       "    }\n",
       "\n",
       "    .dataframe tbody tr th {\n",
       "        vertical-align: top;\n",
       "    }\n",
       "\n",
       "    .dataframe thead th {\n",
       "        text-align: right;\n",
       "    }\n",
       "</style>\n",
       "<table border=\"1\" class=\"dataframe\">\n",
       "  <thead>\n",
       "    <tr style=\"text-align: right;\">\n",
       "      <th></th>\n",
       "      <th>CustomerID</th>\n",
       "      <th>prob_churn</th>\n",
       "    </tr>\n",
       "  </thead>\n",
       "  <tbody>\n",
       "    <tr>\n",
       "      <th>2189</th>\n",
       "      <td>4360-PNRQB</td>\n",
       "      <td>0.889637</td>\n",
       "    </tr>\n",
       "    <tr>\n",
       "      <th>2182</th>\n",
       "      <td>5605-IYGFG</td>\n",
       "      <td>0.889132</td>\n",
       "    </tr>\n",
       "    <tr>\n",
       "      <th>2036</th>\n",
       "      <td>6496-JDSSB</td>\n",
       "      <td>0.888574</td>\n",
       "    </tr>\n",
       "    <tr>\n",
       "      <th>2215</th>\n",
       "      <td>1452-VOQCH</td>\n",
       "      <td>0.883144</td>\n",
       "    </tr>\n",
       "    <tr>\n",
       "      <th>2265</th>\n",
       "      <td>4234-XTNEA</td>\n",
       "      <td>0.881224</td>\n",
       "    </tr>\n",
       "    <tr>\n",
       "      <th>...</th>\n",
       "      <td>...</td>\n",
       "      <td>...</td>\n",
       "    </tr>\n",
       "    <tr>\n",
       "      <th>2046</th>\n",
       "      <td>7083-MIOPC</td>\n",
       "      <td>0.000480</td>\n",
       "    </tr>\n",
       "    <tr>\n",
       "      <th>2029</th>\n",
       "      <td>7157-SMCFK</td>\n",
       "      <td>0.000227</td>\n",
       "    </tr>\n",
       "    <tr>\n",
       "      <th>2330</th>\n",
       "      <td>2804-ETQDK</td>\n",
       "      <td>0.000183</td>\n",
       "    </tr>\n",
       "    <tr>\n",
       "      <th>2297</th>\n",
       "      <td>7293-LSCDV</td>\n",
       "      <td>0.000149</td>\n",
       "    </tr>\n",
       "    <tr>\n",
       "      <th>2264</th>\n",
       "      <td>1403-GYAFU</td>\n",
       "      <td>0.000103</td>\n",
       "    </tr>\n",
       "  </tbody>\n",
       "</table>\n",
       "<p>500 rows × 2 columns</p>\n",
       "</div>"
      ],
      "text/plain": [
       "      CustomerID  prob_churn\n",
       "2189  4360-PNRQB    0.889637\n",
       "2182  5605-IYGFG    0.889132\n",
       "2036  6496-JDSSB    0.888574\n",
       "2215  1452-VOQCH    0.883144\n",
       "2265  4234-XTNEA    0.881224\n",
       "...          ...         ...\n",
       "2046  7083-MIOPC    0.000480\n",
       "2029  7157-SMCFK    0.000227\n",
       "2330  2804-ETQDK    0.000183\n",
       "2297  7293-LSCDV    0.000149\n",
       "2264  1403-GYAFU    0.000103\n",
       "\n",
       "[500 rows x 2 columns]"
      ]
     },
     "execution_count": 433,
     "metadata": {},
     "output_type": "execute_result"
    }
   ],
   "source": [
    "risk_500"
   ]
  },
  {
   "cell_type": "code",
   "execution_count": null,
   "metadata": {},
   "outputs": [],
   "source": []
  }
 ],
 "metadata": {
  "kernelspec": {
   "display_name": "Python 3 (ipykernel)",
   "language": "python",
   "name": "python3"
  },
  "language_info": {
   "codemirror_mode": {
    "name": "ipython",
    "version": 3
   },
   "file_extension": ".py",
   "mimetype": "text/x-python",
   "name": "python",
   "nbconvert_exporter": "python",
   "pygments_lexer": "ipython3",
   "version": "3.11.7"
  }
 },
 "nbformat": 4,
 "nbformat_minor": 4
}
