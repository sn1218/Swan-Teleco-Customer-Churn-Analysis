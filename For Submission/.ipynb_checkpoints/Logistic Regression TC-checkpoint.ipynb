{
 "cells": [
  {
   "cell_type": "markdown",
   "metadata": {},
   "source": [
    "# Ugly Duckings Logistic Model (Worse Metrics)"
   ]
  },
  {
   "cell_type": "markdown",
   "metadata": {
    "tags": []
   },
   "source": [
    "## Import required packages"
   ]
  },
  {
   "cell_type": "code",
   "execution_count": 263,
   "metadata": {
    "tags": []
   },
   "outputs": [],
   "source": [
    "## Data, maths and visualisations\n",
    "import pandas as pd\n",
    "import numpy as np\n",
    "import matplotlib.pyplot as plt\n",
    "import seaborn as sns\n",
    "\n",
    "# Models and metrics\n",
    "from sklearn.linear_model import LogisticRegression # is the package to build the linear regression model\n",
    "from sklearn import metrics # contains functions for module evaluation\n",
    "from sklearn.utils.class_weight import compute_class_weight\n",
    "\n",
    "# train/test split lib and feature selection\n",
    "from sklearn.model_selection import train_test_split, GridSearchCV\n",
    "from sklearn.feature_selection import SelectFromModel\n",
    "\n",
    "# Smote\n",
    "from imblearn.over_sampling import SMOTE\n",
    "\n",
    "# To transform string to list\n",
    "import ast"
   ]
  },
  {
   "cell_type": "markdown",
   "metadata": {
    "tags": []
   },
   "source": [
    "## Load Data"
   ]
  },
  {
   "cell_type": "code",
   "execution_count": 266,
   "metadata": {
    "tags": []
   },
   "outputs": [],
   "source": [
    "pd.options.display.max_columns = None ## Dont limit number of columns displayed"
   ]
  },
  {
   "cell_type": "code",
   "execution_count": 268,
   "metadata": {
    "tags": []
   },
   "outputs": [],
   "source": [
    "df = pd.read_csv(\"swan_data.csv\") ## Load in data"
   ]
  },
  {
   "cell_type": "markdown",
   "metadata": {
    "tags": []
   },
   "source": [
    "## Cleaning and Feature Engineering Functions"
   ]
  },
  {
   "cell_type": "code",
   "execution_count": 271,
   "metadata": {
    "tags": []
   },
   "outputs": [],
   "source": [
    "def data_cleaning(df):\n",
    "    #Making a copy of the dataset\n",
    "    df = df.copy()\n",
    "\n",
    "    #Using CustomerID as index\n",
    "    df.set_index(\"CustomerID\", inplace=True)\n",
    "\n",
    "    #Fixing Total Charges column - inserting zeroes for blank columns and casting to float\n",
    "    df[\"Total Charges\"] = df[\"Total Charges\"].str.replace(\" \", \"0\")\n",
    "    df = df.astype({\"Total Charges\": float})\n",
    "\n",
    "    #Dropping unnecessary columns\n",
    "    df.drop(columns=[\"Count\", \"Country\", \"State\", \"City\", \"Zip Code\", \"Lat Long\", \"Churn Label\", \"Churn Reason\"], inplace=True)\n",
    "\n",
    "    #Mapping columns to numeric values\n",
    "    #General case, where values are \"yes\" and \"no\". Results like \"no phone service\" are mapped to 0 since the lack of phone service is contained in a different column\n",
    "    general_mapper = {\"No\":0, \"Yes\":1, \"No phone service\": 0, \"No internet service\": 0}\n",
    "    for col in df.columns:\n",
    "        if \"No\" in df[col].unique() and \"Yes\" in df[col].unique():\n",
    "            df[col] = df[col].map(general_mapper)\n",
    "    \n",
    "    #Mapping male to 0 and female to 1\n",
    "    gender_mapper = {\"Male\":0, \"Female\":1}\n",
    "    df[\"Gender\"] = df[\"Gender\"].map(gender_mapper)\n",
    "\n",
    "    #Mapping contract lengths into a value representing the length of the contract term in years\n",
    "    contract_mapper = {\"Month-to-month\": 1/12, \"Two year\": 2, \"One year\":1}\n",
    "    df[\"Contract\"] = df[\"Contract\"].map(contract_mapper)\n",
    "\n",
    "    return df\n"
   ]
  },
  {
   "cell_type": "code",
   "execution_count": 273,
   "metadata": {
    "tags": []
   },
   "outputs": [],
   "source": [
    "## Function to get descrete metrics\n",
    "def metrics_func(actual, pred):\n",
    "    accuracy = metrics.accuracy_score(actual, pred)\n",
    "    precision = metrics.precision_score(actual, pred)\n",
    "    recall = metrics.recall_score(actual, pred)\n",
    "    f1 = metrics.f1_score(actual, pred)\n",
    "\n",
    "    print(f'accuracy: {accuracy*100}%')\n",
    "    print(f'precision: {precision*100}%')\n",
    "    print(f'recall: {recall*100}%')\n",
    "    print(f'f1: {f1*100}%')"
   ]
  },
  {
   "cell_type": "code",
   "execution_count": 275,
   "metadata": {
    "tags": []
   },
   "outputs": [],
   "source": [
    "# Returns the metrixs for model with threshold = n\n",
    "def cutoff_change(target, data, n):\n",
    "    data['y_pred'] = np.where(data.prob_churn > n, # Threshold\n",
    "                                   1, # Condition if met\n",
    "                                   0) # Condition if not met\n",
    "    return metrics_func(target, data['y_pred'])"
   ]
  },
  {
   "cell_type": "code",
   "execution_count": 277,
   "metadata": {
    "tags": []
   },
   "outputs": [],
   "source": [
    "## One hot encoding of necessary features and removal of columns.\n",
    "def feature_engineering(df): \n",
    "    # OHE Payment Method and Internet Service columns\n",
    "    df = pd.get_dummies(df, \n",
    "                        columns = ['Payment Method', 'Internet Service'], \n",
    "                        prefix = ['pay','is'], \n",
    "                        drop_first = True, \n",
    "                        dtype = int)\n",
    "    \n",
    "    \n",
    "    return df.drop(columns = ['Partner', 'Paperless Billing'])"
   ]
  },
  {
   "cell_type": "markdown",
   "metadata": {
    "tags": []
   },
   "source": [
    "## Logistic Regression Model"
   ]
  },
  {
   "cell_type": "code",
   "execution_count": 280,
   "metadata": {
    "tags": []
   },
   "outputs": [],
   "source": [
    "df_clean = data_cleaning(df) # Apply data cleaning"
   ]
  },
  {
   "cell_type": "code",
   "execution_count": 282,
   "metadata": {
    "tags": []
   },
   "outputs": [],
   "source": [
    "# Split features and target\n",
    "X = df_clean.drop(columns = 'Churn Value').copy()\n",
    "y = df_clean['Churn Value'].copy()\n",
    "\n",
    "## Train test split\n",
    "X_train, X_test, y_train, y_test = train_test_split(X, # features\n",
    "                                                    y, # target\n",
    "                                                    test_size=0.2, # What proportion of data is for testing\n",
    "                                                    random_state=1204) ## Seed for random split"
   ]
  },
  {
   "cell_type": "code",
   "execution_count": 284,
   "metadata": {
    "tags": []
   },
   "outputs": [],
   "source": [
    "X_train_fe = feature_engineering(X_train) # Apply feature engineering"
   ]
  },
  {
   "cell_type": "code",
   "execution_count": 286,
   "metadata": {
    "tags": []
   },
   "outputs": [
    {
     "data": {
      "text/plain": [
       "True"
      ]
     },
     "execution_count": 286,
     "metadata": {},
     "output_type": "execute_result"
    }
   ],
   "source": [
    "all(X_train_fe.index == y_train.index) # sanity check"
   ]
  },
  {
   "cell_type": "markdown",
   "metadata": {},
   "source": [
    "### Initial model"
   ]
  },
  {
   "cell_type": "code",
   "execution_count": 289,
   "metadata": {
    "tags": []
   },
   "outputs": [],
   "source": [
    "## Initial model for feature selection\n",
    "first_logreg = LogisticRegression(max_iter=10000, \n",
    "                                    penalty='l1', \n",
    "                                    solver='liblinear')"
   ]
  },
  {
   "cell_type": "code",
   "execution_count": 291,
   "metadata": {
    "tags": []
   },
   "outputs": [
    {
     "data": {
      "text/html": [
       "<style>#sk-container-id-9 {color: black;background-color: white;}#sk-container-id-9 pre{padding: 0;}#sk-container-id-9 div.sk-toggleable {background-color: white;}#sk-container-id-9 label.sk-toggleable__label {cursor: pointer;display: block;width: 100%;margin-bottom: 0;padding: 0.3em;box-sizing: border-box;text-align: center;}#sk-container-id-9 label.sk-toggleable__label-arrow:before {content: \"▸\";float: left;margin-right: 0.25em;color: #696969;}#sk-container-id-9 label.sk-toggleable__label-arrow:hover:before {color: black;}#sk-container-id-9 div.sk-estimator:hover label.sk-toggleable__label-arrow:before {color: black;}#sk-container-id-9 div.sk-toggleable__content {max-height: 0;max-width: 0;overflow: hidden;text-align: left;background-color: #f0f8ff;}#sk-container-id-9 div.sk-toggleable__content pre {margin: 0.2em;color: black;border-radius: 0.25em;background-color: #f0f8ff;}#sk-container-id-9 input.sk-toggleable__control:checked~div.sk-toggleable__content {max-height: 200px;max-width: 100%;overflow: auto;}#sk-container-id-9 input.sk-toggleable__control:checked~label.sk-toggleable__label-arrow:before {content: \"▾\";}#sk-container-id-9 div.sk-estimator input.sk-toggleable__control:checked~label.sk-toggleable__label {background-color: #d4ebff;}#sk-container-id-9 div.sk-label input.sk-toggleable__control:checked~label.sk-toggleable__label {background-color: #d4ebff;}#sk-container-id-9 input.sk-hidden--visually {border: 0;clip: rect(1px 1px 1px 1px);clip: rect(1px, 1px, 1px, 1px);height: 1px;margin: -1px;overflow: hidden;padding: 0;position: absolute;width: 1px;}#sk-container-id-9 div.sk-estimator {font-family: monospace;background-color: #f0f8ff;border: 1px dotted black;border-radius: 0.25em;box-sizing: border-box;margin-bottom: 0.5em;}#sk-container-id-9 div.sk-estimator:hover {background-color: #d4ebff;}#sk-container-id-9 div.sk-parallel-item::after {content: \"\";width: 100%;border-bottom: 1px solid gray;flex-grow: 1;}#sk-container-id-9 div.sk-label:hover label.sk-toggleable__label {background-color: #d4ebff;}#sk-container-id-9 div.sk-serial::before {content: \"\";position: absolute;border-left: 1px solid gray;box-sizing: border-box;top: 0;bottom: 0;left: 50%;z-index: 0;}#sk-container-id-9 div.sk-serial {display: flex;flex-direction: column;align-items: center;background-color: white;padding-right: 0.2em;padding-left: 0.2em;position: relative;}#sk-container-id-9 div.sk-item {position: relative;z-index: 1;}#sk-container-id-9 div.sk-parallel {display: flex;align-items: stretch;justify-content: center;background-color: white;position: relative;}#sk-container-id-9 div.sk-item::before, #sk-container-id-9 div.sk-parallel-item::before {content: \"\";position: absolute;border-left: 1px solid gray;box-sizing: border-box;top: 0;bottom: 0;left: 50%;z-index: -1;}#sk-container-id-9 div.sk-parallel-item {display: flex;flex-direction: column;z-index: 1;position: relative;background-color: white;}#sk-container-id-9 div.sk-parallel-item:first-child::after {align-self: flex-end;width: 50%;}#sk-container-id-9 div.sk-parallel-item:last-child::after {align-self: flex-start;width: 50%;}#sk-container-id-9 div.sk-parallel-item:only-child::after {width: 0;}#sk-container-id-9 div.sk-dashed-wrapped {border: 1px dashed gray;margin: 0 0.4em 0.5em 0.4em;box-sizing: border-box;padding-bottom: 0.4em;background-color: white;}#sk-container-id-9 div.sk-label label {font-family: monospace;font-weight: bold;display: inline-block;line-height: 1.2em;}#sk-container-id-9 div.sk-label-container {text-align: center;}#sk-container-id-9 div.sk-container {/* jupyter's `normalize.less` sets `[hidden] { display: none; }` but bootstrap.min.css set `[hidden] { display: none !important; }` so we also need the `!important` here to be able to override the default hidden behavior on the sphinx rendered scikit-learn.org. See: https://github.com/scikit-learn/scikit-learn/issues/21755 */display: inline-block !important;position: relative;}#sk-container-id-9 div.sk-text-repr-fallback {display: none;}</style><div id=\"sk-container-id-9\" class=\"sk-top-container\"><div class=\"sk-text-repr-fallback\"><pre>LogisticRegression(max_iter=10000, penalty=&#x27;l1&#x27;, solver=&#x27;liblinear&#x27;)</pre><b>In a Jupyter environment, please rerun this cell to show the HTML representation or trust the notebook. <br />On GitHub, the HTML representation is unable to render, please try loading this page with nbviewer.org.</b></div><div class=\"sk-container\" hidden><div class=\"sk-item\"><div class=\"sk-estimator sk-toggleable\"><input class=\"sk-toggleable__control sk-hidden--visually\" id=\"sk-estimator-id-17\" type=\"checkbox\" checked><label for=\"sk-estimator-id-17\" class=\"sk-toggleable__label sk-toggleable__label-arrow\">LogisticRegression</label><div class=\"sk-toggleable__content\"><pre>LogisticRegression(max_iter=10000, penalty=&#x27;l1&#x27;, solver=&#x27;liblinear&#x27;)</pre></div></div></div></div></div>"
      ],
      "text/plain": [
       "LogisticRegression(max_iter=10000, penalty='l1', solver='liblinear')"
      ]
     },
     "execution_count": 291,
     "metadata": {},
     "output_type": "execute_result"
    }
   ],
   "source": [
    "first_logreg.fit(X_train_fe, y_train)"
   ]
  },
  {
   "cell_type": "markdown",
   "metadata": {},
   "source": [
    "### Feature selection"
   ]
  },
  {
   "cell_type": "code",
   "execution_count": 294,
   "metadata": {
    "tags": []
   },
   "outputs": [],
   "source": [
    "# Initialising selected model\n",
    "selection = SelectFromModel(first_logreg, # initial model\n",
    "                            prefit=True, # Has first_logreg already been fit\n",
    "                            importance_getter='coef_',\n",
    "                            threshold='median') # Determines selection of features based on coefficients\n",
    "\n",
    "# New X_train with only selected features\n",
    "X_train_sel = selection.fit_transform(X_train_fe)\n",
    "\n",
    "# Retrieve columns that the model found most important\n",
    "feature_cols = selection.get_support()\n",
    "feature_name = X_train_fe.columns[feature_cols]\n",
    "\n",
    "# New df with only selected features\n",
    "X_train_sel = pd.DataFrame(X_train_sel, columns = feature_name)"
   ]
  },
  {
   "cell_type": "code",
   "execution_count": 296,
   "metadata": {
    "tags": []
   },
   "outputs": [
    {
     "data": {
      "text/html": [
       "<div>\n",
       "<style scoped>\n",
       "    .dataframe tbody tr th:only-of-type {\n",
       "        vertical-align: middle;\n",
       "    }\n",
       "\n",
       "    .dataframe tbody tr th {\n",
       "        vertical-align: top;\n",
       "    }\n",
       "\n",
       "    .dataframe thead th {\n",
       "        text-align: right;\n",
       "    }\n",
       "</style>\n",
       "<table border=\"1\" class=\"dataframe\">\n",
       "  <thead>\n",
       "    <tr style=\"text-align: right;\">\n",
       "      <th></th>\n",
       "      <th>Dependents</th>\n",
       "      <th>Phone Service</th>\n",
       "      <th>Multiple Lines</th>\n",
       "      <th>Online Security</th>\n",
       "      <th>Online Backup</th>\n",
       "      <th>Tech Support</th>\n",
       "      <th>Streaming Movies</th>\n",
       "      <th>Contract</th>\n",
       "      <th>pay_Electronic check</th>\n",
       "      <th>is_Fiber optic</th>\n",
       "      <th>is_No</th>\n",
       "    </tr>\n",
       "  </thead>\n",
       "  <tbody>\n",
       "    <tr>\n",
       "      <th>0</th>\n",
       "      <td>0.0</td>\n",
       "      <td>1.0</td>\n",
       "      <td>1.0</td>\n",
       "      <td>0.0</td>\n",
       "      <td>1.0</td>\n",
       "      <td>0.0</td>\n",
       "      <td>1.0</td>\n",
       "      <td>0.083333</td>\n",
       "      <td>0.0</td>\n",
       "      <td>1.0</td>\n",
       "      <td>0.0</td>\n",
       "    </tr>\n",
       "    <tr>\n",
       "      <th>1</th>\n",
       "      <td>0.0</td>\n",
       "      <td>1.0</td>\n",
       "      <td>1.0</td>\n",
       "      <td>1.0</td>\n",
       "      <td>0.0</td>\n",
       "      <td>0.0</td>\n",
       "      <td>1.0</td>\n",
       "      <td>0.083333</td>\n",
       "      <td>1.0</td>\n",
       "      <td>1.0</td>\n",
       "      <td>0.0</td>\n",
       "    </tr>\n",
       "    <tr>\n",
       "      <th>2</th>\n",
       "      <td>0.0</td>\n",
       "      <td>1.0</td>\n",
       "      <td>1.0</td>\n",
       "      <td>1.0</td>\n",
       "      <td>0.0</td>\n",
       "      <td>0.0</td>\n",
       "      <td>1.0</td>\n",
       "      <td>0.083333</td>\n",
       "      <td>1.0</td>\n",
       "      <td>1.0</td>\n",
       "      <td>0.0</td>\n",
       "    </tr>\n",
       "    <tr>\n",
       "      <th>3</th>\n",
       "      <td>0.0</td>\n",
       "      <td>1.0</td>\n",
       "      <td>0.0</td>\n",
       "      <td>0.0</td>\n",
       "      <td>1.0</td>\n",
       "      <td>0.0</td>\n",
       "      <td>0.0</td>\n",
       "      <td>1.000000</td>\n",
       "      <td>0.0</td>\n",
       "      <td>0.0</td>\n",
       "      <td>0.0</td>\n",
       "    </tr>\n",
       "    <tr>\n",
       "      <th>4</th>\n",
       "      <td>0.0</td>\n",
       "      <td>1.0</td>\n",
       "      <td>1.0</td>\n",
       "      <td>1.0</td>\n",
       "      <td>1.0</td>\n",
       "      <td>0.0</td>\n",
       "      <td>1.0</td>\n",
       "      <td>1.000000</td>\n",
       "      <td>1.0</td>\n",
       "      <td>1.0</td>\n",
       "      <td>0.0</td>\n",
       "    </tr>\n",
       "  </tbody>\n",
       "</table>\n",
       "</div>"
      ],
      "text/plain": [
       "   Dependents  Phone Service  Multiple Lines  Online Security  Online Backup  \\\n",
       "0         0.0            1.0             1.0              0.0            1.0   \n",
       "1         0.0            1.0             1.0              1.0            0.0   \n",
       "2         0.0            1.0             1.0              1.0            0.0   \n",
       "3         0.0            1.0             0.0              0.0            1.0   \n",
       "4         0.0            1.0             1.0              1.0            1.0   \n",
       "\n",
       "   Tech Support  Streaming Movies  Contract  pay_Electronic check  \\\n",
       "0           0.0               1.0  0.083333                   0.0   \n",
       "1           0.0               1.0  0.083333                   1.0   \n",
       "2           0.0               1.0  0.083333                   1.0   \n",
       "3           0.0               0.0  1.000000                   0.0   \n",
       "4           0.0               1.0  1.000000                   1.0   \n",
       "\n",
       "   is_Fiber optic  is_No  \n",
       "0             1.0    0.0  \n",
       "1             1.0    0.0  \n",
       "2             1.0    0.0  \n",
       "3             0.0    0.0  \n",
       "4             1.0    0.0  "
      ]
     },
     "execution_count": 296,
     "metadata": {},
     "output_type": "execute_result"
    }
   ],
   "source": [
    "X_train_sel.head() ## Check of what features were kept"
   ]
  },
  {
   "cell_type": "markdown",
   "metadata": {
    "tags": []
   },
   "source": [
    "### Class imbalance"
   ]
  },
  {
   "cell_type": "code",
   "execution_count": 299,
   "metadata": {
    "tags": []
   },
   "outputs": [],
   "source": [
    "# Define the SMOTE model\n",
    "smote = SMOTE()\n",
    "\n",
    "# Apply SMOTE to the training data\n",
    "X_train_smote, y_train_smote = smote.fit_resample(X_train_sel, y_train)"
   ]
  },
  {
   "cell_type": "code",
   "execution_count": 301,
   "metadata": {
    "tags": []
   },
   "outputs": [
    {
     "data": {
      "text/plain": [
       "Churn Value\n",
       "0    4141\n",
       "1    4141\n",
       "Name: count, dtype: int64"
      ]
     },
     "execution_count": 301,
     "metadata": {},
     "output_type": "execute_result"
    }
   ],
   "source": [
    "y_train_smote.value_counts()"
   ]
  },
  {
   "cell_type": "markdown",
   "metadata": {},
   "source": [
    "### Optimise recall"
   ]
  },
  {
   "cell_type": "code",
   "execution_count": 304,
   "metadata": {
    "tags": []
   },
   "outputs": [],
   "source": [
    "log_reg = LogisticRegression(penalty = 'l1', solver='liblinear') ## New model to apply to resampled and featured selected data"
   ]
  },
  {
   "cell_type": "code",
   "execution_count": 306,
   "metadata": {
    "tags": []
   },
   "outputs": [
    {
     "data": {
      "text/html": [
       "<style>#sk-container-id-10 {color: black;background-color: white;}#sk-container-id-10 pre{padding: 0;}#sk-container-id-10 div.sk-toggleable {background-color: white;}#sk-container-id-10 label.sk-toggleable__label {cursor: pointer;display: block;width: 100%;margin-bottom: 0;padding: 0.3em;box-sizing: border-box;text-align: center;}#sk-container-id-10 label.sk-toggleable__label-arrow:before {content: \"▸\";float: left;margin-right: 0.25em;color: #696969;}#sk-container-id-10 label.sk-toggleable__label-arrow:hover:before {color: black;}#sk-container-id-10 div.sk-estimator:hover label.sk-toggleable__label-arrow:before {color: black;}#sk-container-id-10 div.sk-toggleable__content {max-height: 0;max-width: 0;overflow: hidden;text-align: left;background-color: #f0f8ff;}#sk-container-id-10 div.sk-toggleable__content pre {margin: 0.2em;color: black;border-radius: 0.25em;background-color: #f0f8ff;}#sk-container-id-10 input.sk-toggleable__control:checked~div.sk-toggleable__content {max-height: 200px;max-width: 100%;overflow: auto;}#sk-container-id-10 input.sk-toggleable__control:checked~label.sk-toggleable__label-arrow:before {content: \"▾\";}#sk-container-id-10 div.sk-estimator input.sk-toggleable__control:checked~label.sk-toggleable__label {background-color: #d4ebff;}#sk-container-id-10 div.sk-label input.sk-toggleable__control:checked~label.sk-toggleable__label {background-color: #d4ebff;}#sk-container-id-10 input.sk-hidden--visually {border: 0;clip: rect(1px 1px 1px 1px);clip: rect(1px, 1px, 1px, 1px);height: 1px;margin: -1px;overflow: hidden;padding: 0;position: absolute;width: 1px;}#sk-container-id-10 div.sk-estimator {font-family: monospace;background-color: #f0f8ff;border: 1px dotted black;border-radius: 0.25em;box-sizing: border-box;margin-bottom: 0.5em;}#sk-container-id-10 div.sk-estimator:hover {background-color: #d4ebff;}#sk-container-id-10 div.sk-parallel-item::after {content: \"\";width: 100%;border-bottom: 1px solid gray;flex-grow: 1;}#sk-container-id-10 div.sk-label:hover label.sk-toggleable__label {background-color: #d4ebff;}#sk-container-id-10 div.sk-serial::before {content: \"\";position: absolute;border-left: 1px solid gray;box-sizing: border-box;top: 0;bottom: 0;left: 50%;z-index: 0;}#sk-container-id-10 div.sk-serial {display: flex;flex-direction: column;align-items: center;background-color: white;padding-right: 0.2em;padding-left: 0.2em;position: relative;}#sk-container-id-10 div.sk-item {position: relative;z-index: 1;}#sk-container-id-10 div.sk-parallel {display: flex;align-items: stretch;justify-content: center;background-color: white;position: relative;}#sk-container-id-10 div.sk-item::before, #sk-container-id-10 div.sk-parallel-item::before {content: \"\";position: absolute;border-left: 1px solid gray;box-sizing: border-box;top: 0;bottom: 0;left: 50%;z-index: -1;}#sk-container-id-10 div.sk-parallel-item {display: flex;flex-direction: column;z-index: 1;position: relative;background-color: white;}#sk-container-id-10 div.sk-parallel-item:first-child::after {align-self: flex-end;width: 50%;}#sk-container-id-10 div.sk-parallel-item:last-child::after {align-self: flex-start;width: 50%;}#sk-container-id-10 div.sk-parallel-item:only-child::after {width: 0;}#sk-container-id-10 div.sk-dashed-wrapped {border: 1px dashed gray;margin: 0 0.4em 0.5em 0.4em;box-sizing: border-box;padding-bottom: 0.4em;background-color: white;}#sk-container-id-10 div.sk-label label {font-family: monospace;font-weight: bold;display: inline-block;line-height: 1.2em;}#sk-container-id-10 div.sk-label-container {text-align: center;}#sk-container-id-10 div.sk-container {/* jupyter's `normalize.less` sets `[hidden] { display: none; }` but bootstrap.min.css set `[hidden] { display: none !important; }` so we also need the `!important` here to be able to override the default hidden behavior on the sphinx rendered scikit-learn.org. See: https://github.com/scikit-learn/scikit-learn/issues/21755 */display: inline-block !important;position: relative;}#sk-container-id-10 div.sk-text-repr-fallback {display: none;}</style><div id=\"sk-container-id-10\" class=\"sk-top-container\"><div class=\"sk-text-repr-fallback\"><pre>GridSearchCV(cv=10,\n",
       "             estimator=LogisticRegression(penalty=&#x27;l1&#x27;, solver=&#x27;liblinear&#x27;),\n",
       "             param_grid={&#x27;C&#x27;: [0.01, 0.1, 1, 10, 100],\n",
       "                         &#x27;max_iter&#x27;: [500, 1000, 5000, 10000]},\n",
       "             scoring=&#x27;recall&#x27;)</pre><b>In a Jupyter environment, please rerun this cell to show the HTML representation or trust the notebook. <br />On GitHub, the HTML representation is unable to render, please try loading this page with nbviewer.org.</b></div><div class=\"sk-container\" hidden><div class=\"sk-item sk-dashed-wrapped\"><div class=\"sk-label-container\"><div class=\"sk-label sk-toggleable\"><input class=\"sk-toggleable__control sk-hidden--visually\" id=\"sk-estimator-id-18\" type=\"checkbox\" ><label for=\"sk-estimator-id-18\" class=\"sk-toggleable__label sk-toggleable__label-arrow\">GridSearchCV</label><div class=\"sk-toggleable__content\"><pre>GridSearchCV(cv=10,\n",
       "             estimator=LogisticRegression(penalty=&#x27;l1&#x27;, solver=&#x27;liblinear&#x27;),\n",
       "             param_grid={&#x27;C&#x27;: [0.01, 0.1, 1, 10, 100],\n",
       "                         &#x27;max_iter&#x27;: [500, 1000, 5000, 10000]},\n",
       "             scoring=&#x27;recall&#x27;)</pre></div></div></div><div class=\"sk-parallel\"><div class=\"sk-parallel-item\"><div class=\"sk-item\"><div class=\"sk-label-container\"><div class=\"sk-label sk-toggleable\"><input class=\"sk-toggleable__control sk-hidden--visually\" id=\"sk-estimator-id-19\" type=\"checkbox\" ><label for=\"sk-estimator-id-19\" class=\"sk-toggleable__label sk-toggleable__label-arrow\">estimator: LogisticRegression</label><div class=\"sk-toggleable__content\"><pre>LogisticRegression(penalty=&#x27;l1&#x27;, solver=&#x27;liblinear&#x27;)</pre></div></div></div><div class=\"sk-serial\"><div class=\"sk-item\"><div class=\"sk-estimator sk-toggleable\"><input class=\"sk-toggleable__control sk-hidden--visually\" id=\"sk-estimator-id-20\" type=\"checkbox\" ><label for=\"sk-estimator-id-20\" class=\"sk-toggleable__label sk-toggleable__label-arrow\">LogisticRegression</label><div class=\"sk-toggleable__content\"><pre>LogisticRegression(penalty=&#x27;l1&#x27;, solver=&#x27;liblinear&#x27;)</pre></div></div></div></div></div></div></div></div></div></div>"
      ],
      "text/plain": [
       "GridSearchCV(cv=10,\n",
       "             estimator=LogisticRegression(penalty='l1', solver='liblinear'),\n",
       "             param_grid={'C': [0.01, 0.1, 1, 10, 100],\n",
       "                         'max_iter': [500, 1000, 5000, 10000]},\n",
       "             scoring='recall')"
      ]
     },
     "execution_count": 306,
     "metadata": {},
     "output_type": "execute_result"
    }
   ],
   "source": [
    "# Define the parameter grid\n",
    "param_grid = {\n",
    "    'C': [0.01, 0.1, 1, 10, 100], # λ = 1/C and λ is penalty weight applied to coefficients\n",
    "    'max_iter': [500,1000,5000,10000] # maximum iterations of model\n",
    "}\n",
    "\n",
    "# Implement GridSearchCV\n",
    "grid_search = GridSearchCV(log_reg, param_grid, cv=10, scoring='recall') ## Set to maximise recall\n",
    "grid_search.fit(X_train_smote, y_train_smote) ## Applied to the resampled data. Only training set is resampled."
   ]
  },
  {
   "cell_type": "code",
   "execution_count": 307,
   "metadata": {
    "tags": []
   },
   "outputs": [],
   "source": [
    "best_recall = grid_search.best_estimator_ ## Final model"
   ]
  },
  {
   "cell_type": "markdown",
   "metadata": {},
   "source": [
    "### Model in use"
   ]
  },
  {
   "cell_type": "code",
   "execution_count": 309,
   "metadata": {
    "tags": []
   },
   "outputs": [],
   "source": [
    "X_train_smote[['prob_retain','prob_churn']] = best_recall.predict_proba(X_train_smote) # Predictions with final model"
   ]
  },
  {
   "cell_type": "code",
   "execution_count": 310,
   "metadata": {
    "tags": []
   },
   "outputs": [
    {
     "name": "stdout",
     "output_type": "stream",
     "text": [
      "accuracy: 76.99830958705627%\n",
      "precision: 74.58223394898856%\n",
      "recall: 81.91258150205265%\n",
      "f1: 78.07572793186787%\n"
     ]
    }
   ],
   "source": [
    "cutoff_change(y_train_smote, X_train_smote, 0.5) #Find metrics with threshold = 0.5"
   ]
  },
  {
   "cell_type": "code",
   "execution_count": 311,
   "metadata": {
    "tags": []
   },
   "outputs": [
    {
     "name": "stdout",
     "output_type": "stream",
     "text": [
      "accuracy: 73.81121362668559%\n",
      "precision: 50.58043117744611%\n",
      "recall: 81.11702127659575%\n",
      "f1: 62.30847803881512%\n"
     ]
    }
   ],
   "source": [
    "X_test_fe = feature_engineering(X_test) # Apply feature engineering\n",
    "X_test_sel = selection.transform(X_test_fe)\n",
    "X_test_sel = pd.DataFrame(X_test_sel, columns=feature_name) ## X_test with selected features\n",
    "\n",
    "X_test_sel[['prob_retain','prob_churn']] = best_recall.predict_proba(X_test_sel) # Test predictions with final model\n",
    "\n",
    "cutoff_change(y_test, X_test_sel, 0.5) #Find metrics with threshold = 0.5"
   ]
  },
  {
   "cell_type": "code",
   "execution_count": 312,
   "metadata": {
    "tags": []
   },
   "outputs": [],
   "source": [
    "cm = metrics.confusion_matrix(y_test,X_test_sel['y_pred']) # Confusion matrix of test results"
   ]
  },
  {
   "cell_type": "code",
   "execution_count": 313,
   "metadata": {
    "tags": []
   },
   "outputs": [
    {
     "data": {
      "image/png": "[encoded data removed]",
      "text/plain": [
       "<Figure size 640x480 with 2 Axes>"
      ]
     },
     "metadata": {},
     "output_type": "display_data"
    }
   ],
   "source": [
    "## plot heatmap for confusion matrix\n",
    "ax= plt.subplot()\n",
    "sns.heatmap(cm, annot=True, ax=ax, fmt='g'); \n",
    "\n",
    "# axis labels and axis titles and ticks\n",
    "ax.set_xlabel('Predicted labels');ax.set_ylabel('Real labels')\n",
    "ax.set_title('Confusion Matrix')\n",
    "ax.xaxis.set_ticklabels(['Not Churned', 'Churned'])\n",
    "ax.yaxis.set_ticklabels(['Not Churned', 'Churned'])\n",
    "\n",
    "plt.show()"
   ]
  },
  {
   "cell_type": "markdown",
   "metadata": {},
   "source": [
    "## List Creation"
   ]
  },
  {
   "cell_type": "markdown",
   "metadata": {
    "tags": []
   },
   "source": [
    "### 500 Most likely to churn"
   ]
  },
  {
   "cell_type": "code",
   "execution_count": 248,
   "metadata": {
    "tags": []
   },
   "outputs": [],
   "source": [
    "## Transform whole data\n",
    "X_fe = feature_engineering(X)\n",
    "X_sel = selection.transform(X_fe)\n",
    "X_sel = pd.DataFrame(X_sel, columns=feature_name)\n",
    "\n",
    "X_sel = X_sel.set_index(y.index)"
   ]
  },
  {
   "cell_type": "code",
   "execution_count": 319,
   "metadata": {
    "tags": []
   },
   "outputs": [],
   "source": [
    "# Make predictions\n",
    "X_sel[['prob_retain','prob_churn']] = best_accuracy.predict_proba(X_sel)\n",
    "X_sel['Churn Value'] = y\n",
    "X_sel.reset_index(inplace = True)"
   ]
  },
  {
   "cell_type": "code",
   "execution_count": 323,
   "metadata": {
    "tags": []
   },
   "outputs": [],
   "source": [
    "## Top 500 probabilites of churning from all the customers where churn value = 0\n",
    "risk_500 = X_sel[X_sel['Churn Value'] == 0][['CustomerID','prob_churn']]\\\n",
    "    .sort_values(by = 'prob_churn',\n",
    "                 ascending = False)[:500]"
   ]
  },
  {
   "cell_type": "code",
   "execution_count": null,
   "metadata": {},
   "outputs": [],
   "source": [
    "risk_500 = risk_500.drop(columns = 'prob_churn') # Leave only top 500 customers"
   ]
  },
  {
   "cell_type": "code",
   "execution_count": 370,
   "metadata": {
    "tags": []
   },
   "outputs": [],
   "source": [
    "# Convert to csv\n",
    "risk_500.to_csv(\"Logistic_500.csv\", index=False)"
   ]
  },
  {
   "cell_type": "markdown",
   "metadata": {
    "tags": []
   },
   "source": [
    "### Churn risk"
   ]
  },
  {
   "cell_type": "code",
   "execution_count": 357,
   "metadata": {
    "tags": []
   },
   "outputs": [],
   "source": [
    "# All probabilies of churning for customers with churn value = 0\n",
    "churn_risk = X_sel[X_sel['Churn Value'] == 0][['CustomerID','prob_churn']]\\\n",
    "    .sort_values(by = 'prob_churn',\n",
    "                 ascending = False)"
   ]
  },
  {
   "cell_type": "code",
   "execution_count": 366,
   "metadata": {
    "tags": []
   },
   "outputs": [],
   "source": [
    "# Convert to csv\n",
    "churn_risk.to_csv(\"Churn Risk.csv\", index=False)"
   ]
  }
 ],
 "metadata": {
  "kernelspec": {
   "display_name": "Python 3 (ipykernel)",
   "language": "python",
   "name": "python3"
  },
  "language_info": {
   "codemirror_mode": {
    "name": "ipython",
    "version": 3
   },
   "file_extension": ".py",
   "mimetype": "text/x-python",
   "name": "python",
   "nbconvert_exporter": "python",
   "pygments_lexer": "ipython3",
   "version": "3.11.7"
  }
 },
 "nbformat": 4,
 "nbformat_minor": 4
}
